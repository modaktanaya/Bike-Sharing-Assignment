{
 "cells": [
  {
   "cell_type": "markdown",
   "metadata": {},
   "source": [
    "## Bike-sharing Assignment\n",
    "\n",
    "Boombikes is a bike-sharing system is a service in which bikes are made available for shared use to individuals on a short term basis for a price or free. Many bike share systems allow people to borrow a bike from a \"dock\" which is usually computer-controlled wherein the user enters the payment information, and the system unlocks it. This bike can then be returned to another dock belonging to the same system.\n",
    "\n",
    "A US bike-sharing provider BoomBikes has recently suffered considerable dips in their revenues due to the ongoing Corona pandemic. The company is finding it very difficult to sustain in the current market scenario. So, it has decided to come up with a mindful business plan to be able to accelerate its revenue as soon as the ongoing lockdown comes to an end, and the economy restores to a healthy state. \n",
    "\n",
    "In such an attempt, BoomBikes aspires to understand the demand for shared bikes among the people after this ongoing quarantine situation ends across the nation due to Covid-19. They have planned this to prepare themselves to cater to the people's needs once the situation gets better all around and stand out from other service providers and make huge profits.\n",
    "\n",
    "The company wants to know:\n",
    "- Which variables are significant in predicting the demand for shared bikes.\n",
    "- How well those variables describe the bike demands\n",
    "- Based on various meteorological surveys and people's styles, the service provider firm has gathered a large dataset on daily bike demands across the American market based on some factors. \n",
    "\n",
    "To get this insights, we will build a model to represent the demand for shared bikes with the available independent variables."
   ]
  },
  {
   "cell_type": "markdown",
   "metadata": {},
   "source": [
    "### Reading and Understanding data"
   ]
  },
  {
   "cell_type": "code",
   "execution_count": 1,
   "metadata": {},
   "outputs": [],
   "source": [
    "#importing the required libraries and setting some formatting options\n",
    "import pandas as pd\n",
    "import numpy as np\n",
    "import matplotlib.pyplot as plt\n",
    "import seaborn as sns\n",
    "from pandas.plotting import lag_plot\n",
    "import warnings\n",
    "\n",
    "from sklearn.model_selection import train_test_split\n",
    "from sklearn.preprocessing import StandardScaler\n",
    "from sklearn.preprocessing import MinMaxScaler\n",
    "from sklearn.linear_model import LinearRegression\n",
    "from sklearn.feature_selection import RFE\n",
    "from sklearn.metrics import mean_squared_error, r2_score\n",
    "from sklearn.model_selection import cross_val_score\n",
    "import statsmodels.api as sm\n",
    "from statsmodels.stats.outliers_influence import variance_inflation_factor\n",
    "\n",
    "%matplotlib inline\n",
    "\n",
    "warnings.filterwarnings('ignore')\n",
    "\n",
    "pd.set_option('display.max_columns', 200)\n",
    "pd.set_option('display.max_rows', 200)\n",
    "pd.set_option('display.width', 400)\n",
    "pd.set_option('display.float_format', lambda x: '%.3f' % x)\n",
    "plt.rcParams['figure.figsize'] = (15, 8)\n",
    "sns.set(style=\"dark\")\n",
    "sns.set_palette('tab10')"
   ]
  },
  {
   "cell_type": "code",
   "execution_count": 2,
   "metadata": {},
   "outputs": [
    {
     "name": "stdout",
     "output_type": "stream",
     "text": [
      "The shape of bikes data:  (730, 16)\n"
     ]
    },
    {
     "data": {
      "text/html": [
       "<div>\n",
       "<style scoped>\n",
       "    .dataframe tbody tr th:only-of-type {\n",
       "        vertical-align: middle;\n",
       "    }\n",
       "\n",
       "    .dataframe tbody tr th {\n",
       "        vertical-align: top;\n",
       "    }\n",
       "\n",
       "    .dataframe thead th {\n",
       "        text-align: right;\n",
       "    }\n",
       "</style>\n",
       "<table border=\"1\" class=\"dataframe\">\n",
       "  <thead>\n",
       "    <tr style=\"text-align: right;\">\n",
       "      <th></th>\n",
       "      <th>instant</th>\n",
       "      <th>dteday</th>\n",
       "      <th>season</th>\n",
       "      <th>yr</th>\n",
       "      <th>mnth</th>\n",
       "      <th>holiday</th>\n",
       "      <th>weekday</th>\n",
       "      <th>workingday</th>\n",
       "      <th>weathersit</th>\n",
       "      <th>temp</th>\n",
       "      <th>atemp</th>\n",
       "      <th>hum</th>\n",
       "      <th>windspeed</th>\n",
       "      <th>casual</th>\n",
       "      <th>registered</th>\n",
       "      <th>cnt</th>\n",
       "    </tr>\n",
       "  </thead>\n",
       "  <tbody>\n",
       "    <tr>\n",
       "      <td>0</td>\n",
       "      <td>1</td>\n",
       "      <td>01-01-2018</td>\n",
       "      <td>1</td>\n",
       "      <td>0</td>\n",
       "      <td>1</td>\n",
       "      <td>0</td>\n",
       "      <td>6</td>\n",
       "      <td>0</td>\n",
       "      <td>2</td>\n",
       "      <td>14.111</td>\n",
       "      <td>18.181</td>\n",
       "      <td>80.583</td>\n",
       "      <td>10.750</td>\n",
       "      <td>331</td>\n",
       "      <td>654</td>\n",
       "      <td>985</td>\n",
       "    </tr>\n",
       "    <tr>\n",
       "      <td>1</td>\n",
       "      <td>2</td>\n",
       "      <td>02-01-2018</td>\n",
       "      <td>1</td>\n",
       "      <td>0</td>\n",
       "      <td>1</td>\n",
       "      <td>0</td>\n",
       "      <td>0</td>\n",
       "      <td>0</td>\n",
       "      <td>2</td>\n",
       "      <td>14.903</td>\n",
       "      <td>17.687</td>\n",
       "      <td>69.609</td>\n",
       "      <td>16.652</td>\n",
       "      <td>131</td>\n",
       "      <td>670</td>\n",
       "      <td>801</td>\n",
       "    </tr>\n",
       "    <tr>\n",
       "      <td>2</td>\n",
       "      <td>3</td>\n",
       "      <td>03-01-2018</td>\n",
       "      <td>1</td>\n",
       "      <td>0</td>\n",
       "      <td>1</td>\n",
       "      <td>0</td>\n",
       "      <td>1</td>\n",
       "      <td>1</td>\n",
       "      <td>1</td>\n",
       "      <td>8.051</td>\n",
       "      <td>9.470</td>\n",
       "      <td>43.727</td>\n",
       "      <td>16.637</td>\n",
       "      <td>120</td>\n",
       "      <td>1229</td>\n",
       "      <td>1349</td>\n",
       "    </tr>\n",
       "    <tr>\n",
       "      <td>3</td>\n",
       "      <td>4</td>\n",
       "      <td>04-01-2018</td>\n",
       "      <td>1</td>\n",
       "      <td>0</td>\n",
       "      <td>1</td>\n",
       "      <td>0</td>\n",
       "      <td>2</td>\n",
       "      <td>1</td>\n",
       "      <td>1</td>\n",
       "      <td>8.200</td>\n",
       "      <td>10.606</td>\n",
       "      <td>59.044</td>\n",
       "      <td>10.740</td>\n",
       "      <td>108</td>\n",
       "      <td>1454</td>\n",
       "      <td>1562</td>\n",
       "    </tr>\n",
       "    <tr>\n",
       "      <td>4</td>\n",
       "      <td>5</td>\n",
       "      <td>05-01-2018</td>\n",
       "      <td>1</td>\n",
       "      <td>0</td>\n",
       "      <td>1</td>\n",
       "      <td>0</td>\n",
       "      <td>3</td>\n",
       "      <td>1</td>\n",
       "      <td>1</td>\n",
       "      <td>9.305</td>\n",
       "      <td>11.463</td>\n",
       "      <td>43.696</td>\n",
       "      <td>12.522</td>\n",
       "      <td>82</td>\n",
       "      <td>1518</td>\n",
       "      <td>1600</td>\n",
       "    </tr>\n",
       "  </tbody>\n",
       "</table>\n",
       "</div>"
      ],
      "text/plain": [
       "   instant      dteday  season  yr  mnth  holiday  weekday  workingday  weathersit   temp  atemp    hum  windspeed  casual  registered   cnt\n",
       "0        1  01-01-2018       1   0     1        0        6           0           2 14.111 18.181 80.583     10.750     331         654   985\n",
       "1        2  02-01-2018       1   0     1        0        0           0           2 14.903 17.687 69.609     16.652     131         670   801\n",
       "2        3  03-01-2018       1   0     1        0        1           1           1  8.051  9.470 43.727     16.637     120        1229  1349\n",
       "3        4  04-01-2018       1   0     1        0        2           1           1  8.200 10.606 59.044     10.740     108        1454  1562\n",
       "4        5  05-01-2018       1   0     1        0        3           1           1  9.305 11.463 43.696     12.522      82        1518  1600"
      ]
     },
     "execution_count": 2,
     "metadata": {},
     "output_type": "execute_result"
    }
   ],
   "source": [
    "#reading the data and checking it's shape and first 5 rows\n",
    "bikes = pd.read_csv('day.csv')\n",
    "print(\"The shape of bikes data: \", bikes.shape)\n",
    "bikes.head()"
   ]
  },
  {
   "cell_type": "code",
   "execution_count": 3,
   "metadata": {},
   "outputs": [
    {
     "name": "stdout",
     "output_type": "stream",
     "text": [
      "<class 'pandas.core.frame.DataFrame'>\n",
      "RangeIndex: 730 entries, 0 to 729\n",
      "Data columns (total 16 columns):\n",
      "instant       730 non-null int64\n",
      "dteday        730 non-null object\n",
      "season        730 non-null int64\n",
      "yr            730 non-null int64\n",
      "mnth          730 non-null int64\n",
      "holiday       730 non-null int64\n",
      "weekday       730 non-null int64\n",
      "workingday    730 non-null int64\n",
      "weathersit    730 non-null int64\n",
      "temp          730 non-null float64\n",
      "atemp         730 non-null float64\n",
      "hum           730 non-null float64\n",
      "windspeed     730 non-null float64\n",
      "casual        730 non-null int64\n",
      "registered    730 non-null int64\n",
      "cnt           730 non-null int64\n",
      "dtypes: float64(4), int64(11), object(1)\n",
      "memory usage: 91.4+ KB\n"
     ]
    }
   ],
   "source": [
    "#checking the general info about the bikes data\n",
    "bikes.info()"
   ]
  },
  {
   "cell_type": "markdown",
   "metadata": {},
   "source": [
    "Numerical Variables(7) : temp, atemp, hum, windspeed, casual, registered, count \n",
    "\n",
    "Categorical Variables(7) : season, yr, mnth, holiday, weekday, workingday, weathersit\n",
    "\n",
    "Date(1) : dteday"
   ]
  },
  {
   "cell_type": "code",
   "execution_count": 4,
   "metadata": {},
   "outputs": [
    {
     "data": {
      "text/html": [
       "<div>\n",
       "<style scoped>\n",
       "    .dataframe tbody tr th:only-of-type {\n",
       "        vertical-align: middle;\n",
       "    }\n",
       "\n",
       "    .dataframe tbody tr th {\n",
       "        vertical-align: top;\n",
       "    }\n",
       "\n",
       "    .dataframe thead th {\n",
       "        text-align: right;\n",
       "    }\n",
       "</style>\n",
       "<table border=\"1\" class=\"dataframe\">\n",
       "  <thead>\n",
       "    <tr style=\"text-align: right;\">\n",
       "      <th></th>\n",
       "      <th>instant</th>\n",
       "      <th>season</th>\n",
       "      <th>yr</th>\n",
       "      <th>mnth</th>\n",
       "      <th>holiday</th>\n",
       "      <th>weekday</th>\n",
       "      <th>workingday</th>\n",
       "      <th>weathersit</th>\n",
       "      <th>temp</th>\n",
       "      <th>atemp</th>\n",
       "      <th>hum</th>\n",
       "      <th>windspeed</th>\n",
       "      <th>casual</th>\n",
       "      <th>registered</th>\n",
       "      <th>cnt</th>\n",
       "    </tr>\n",
       "  </thead>\n",
       "  <tbody>\n",
       "    <tr>\n",
       "      <td>count</td>\n",
       "      <td>730.000</td>\n",
       "      <td>730.000</td>\n",
       "      <td>730.000</td>\n",
       "      <td>730.000</td>\n",
       "      <td>730.000</td>\n",
       "      <td>730.000</td>\n",
       "      <td>730.000</td>\n",
       "      <td>730.000</td>\n",
       "      <td>730.000</td>\n",
       "      <td>730.000</td>\n",
       "      <td>730.000</td>\n",
       "      <td>730.000</td>\n",
       "      <td>730.000</td>\n",
       "      <td>730.000</td>\n",
       "      <td>730.000</td>\n",
       "    </tr>\n",
       "    <tr>\n",
       "      <td>mean</td>\n",
       "      <td>365.500</td>\n",
       "      <td>2.499</td>\n",
       "      <td>0.500</td>\n",
       "      <td>6.526</td>\n",
       "      <td>0.029</td>\n",
       "      <td>2.997</td>\n",
       "      <td>0.684</td>\n",
       "      <td>1.395</td>\n",
       "      <td>20.319</td>\n",
       "      <td>23.726</td>\n",
       "      <td>62.765</td>\n",
       "      <td>12.764</td>\n",
       "      <td>849.249</td>\n",
       "      <td>3658.758</td>\n",
       "      <td>4508.007</td>\n",
       "    </tr>\n",
       "    <tr>\n",
       "      <td>std</td>\n",
       "      <td>210.877</td>\n",
       "      <td>1.110</td>\n",
       "      <td>0.500</td>\n",
       "      <td>3.450</td>\n",
       "      <td>0.167</td>\n",
       "      <td>2.006</td>\n",
       "      <td>0.465</td>\n",
       "      <td>0.545</td>\n",
       "      <td>7.507</td>\n",
       "      <td>8.150</td>\n",
       "      <td>14.238</td>\n",
       "      <td>5.196</td>\n",
       "      <td>686.480</td>\n",
       "      <td>1559.759</td>\n",
       "      <td>1936.012</td>\n",
       "    </tr>\n",
       "    <tr>\n",
       "      <td>min</td>\n",
       "      <td>1.000</td>\n",
       "      <td>1.000</td>\n",
       "      <td>0.000</td>\n",
       "      <td>1.000</td>\n",
       "      <td>0.000</td>\n",
       "      <td>0.000</td>\n",
       "      <td>0.000</td>\n",
       "      <td>1.000</td>\n",
       "      <td>2.424</td>\n",
       "      <td>3.953</td>\n",
       "      <td>0.000</td>\n",
       "      <td>1.500</td>\n",
       "      <td>2.000</td>\n",
       "      <td>20.000</td>\n",
       "      <td>22.000</td>\n",
       "    </tr>\n",
       "    <tr>\n",
       "      <td>25%</td>\n",
       "      <td>183.250</td>\n",
       "      <td>2.000</td>\n",
       "      <td>0.000</td>\n",
       "      <td>4.000</td>\n",
       "      <td>0.000</td>\n",
       "      <td>1.000</td>\n",
       "      <td>0.000</td>\n",
       "      <td>1.000</td>\n",
       "      <td>13.812</td>\n",
       "      <td>16.890</td>\n",
       "      <td>52.000</td>\n",
       "      <td>9.042</td>\n",
       "      <td>316.250</td>\n",
       "      <td>2502.250</td>\n",
       "      <td>3169.750</td>\n",
       "    </tr>\n",
       "    <tr>\n",
       "      <td>50%</td>\n",
       "      <td>365.500</td>\n",
       "      <td>3.000</td>\n",
       "      <td>0.500</td>\n",
       "      <td>7.000</td>\n",
       "      <td>0.000</td>\n",
       "      <td>3.000</td>\n",
       "      <td>1.000</td>\n",
       "      <td>1.000</td>\n",
       "      <td>20.466</td>\n",
       "      <td>24.368</td>\n",
       "      <td>62.625</td>\n",
       "      <td>12.125</td>\n",
       "      <td>717.000</td>\n",
       "      <td>3664.500</td>\n",
       "      <td>4548.500</td>\n",
       "    </tr>\n",
       "    <tr>\n",
       "      <td>75%</td>\n",
       "      <td>547.750</td>\n",
       "      <td>3.000</td>\n",
       "      <td>1.000</td>\n",
       "      <td>10.000</td>\n",
       "      <td>0.000</td>\n",
       "      <td>5.000</td>\n",
       "      <td>1.000</td>\n",
       "      <td>2.000</td>\n",
       "      <td>26.881</td>\n",
       "      <td>30.446</td>\n",
       "      <td>72.990</td>\n",
       "      <td>15.626</td>\n",
       "      <td>1096.500</td>\n",
       "      <td>4783.250</td>\n",
       "      <td>5966.000</td>\n",
       "    </tr>\n",
       "    <tr>\n",
       "      <td>max</td>\n",
       "      <td>730.000</td>\n",
       "      <td>4.000</td>\n",
       "      <td>1.000</td>\n",
       "      <td>12.000</td>\n",
       "      <td>1.000</td>\n",
       "      <td>6.000</td>\n",
       "      <td>1.000</td>\n",
       "      <td>3.000</td>\n",
       "      <td>35.328</td>\n",
       "      <td>42.045</td>\n",
       "      <td>97.250</td>\n",
       "      <td>34.000</td>\n",
       "      <td>3410.000</td>\n",
       "      <td>6946.000</td>\n",
       "      <td>8714.000</td>\n",
       "    </tr>\n",
       "  </tbody>\n",
       "</table>\n",
       "</div>"
      ],
      "text/plain": [
       "       instant  season      yr    mnth  holiday  weekday  workingday  weathersit    temp   atemp     hum  windspeed   casual  registered      cnt\n",
       "count  730.000 730.000 730.000 730.000  730.000  730.000     730.000     730.000 730.000 730.000 730.000    730.000  730.000     730.000  730.000\n",
       "mean   365.500   2.499   0.500   6.526    0.029    2.997       0.684       1.395  20.319  23.726  62.765     12.764  849.249    3658.758 4508.007\n",
       "std    210.877   1.110   0.500   3.450    0.167    2.006       0.465       0.545   7.507   8.150  14.238      5.196  686.480    1559.759 1936.012\n",
       "min      1.000   1.000   0.000   1.000    0.000    0.000       0.000       1.000   2.424   3.953   0.000      1.500    2.000      20.000   22.000\n",
       "25%    183.250   2.000   0.000   4.000    0.000    1.000       0.000       1.000  13.812  16.890  52.000      9.042  316.250    2502.250 3169.750\n",
       "50%    365.500   3.000   0.500   7.000    0.000    3.000       1.000       1.000  20.466  24.368  62.625     12.125  717.000    3664.500 4548.500\n",
       "75%    547.750   3.000   1.000  10.000    0.000    5.000       1.000       2.000  26.881  30.446  72.990     15.626 1096.500    4783.250 5966.000\n",
       "max    730.000   4.000   1.000  12.000    1.000    6.000       1.000       3.000  35.328  42.045  97.250     34.000 3410.000    6946.000 8714.000"
      ]
     },
     "execution_count": 4,
     "metadata": {},
     "output_type": "execute_result"
    }
   ],
   "source": [
    "#looking for statistical summary of bikes data\n",
    "bikes.describe()"
   ]
  },
  {
   "cell_type": "code",
   "execution_count": 5,
   "metadata": {},
   "outputs": [
    {
     "data": {
      "text/plain": [
       "instant       0\n",
       "dteday        0\n",
       "season        0\n",
       "yr            0\n",
       "mnth          0\n",
       "holiday       0\n",
       "weekday       0\n",
       "workingday    0\n",
       "weathersit    0\n",
       "temp          0\n",
       "atemp         0\n",
       "hum           0\n",
       "windspeed     0\n",
       "casual        0\n",
       "registered    0\n",
       "cnt           0\n",
       "dtype: int64"
      ]
     },
     "execution_count": 5,
     "metadata": {},
     "output_type": "execute_result"
    }
   ],
   "source": [
    "#checking for any null values present in the data\n",
    "bikes.isnull().sum()"
   ]
  },
  {
   "cell_type": "markdown",
   "metadata": {},
   "source": [
    "- The bikes dataset has no missing values."
   ]
  },
  {
   "cell_type": "code",
   "execution_count": 6,
   "metadata": {},
   "outputs": [
    {
     "data": {
      "text/plain": [
       "instant         int64\n",
       "dteday         object\n",
       "season          int64\n",
       "yr              int64\n",
       "mnth            int64\n",
       "holiday         int64\n",
       "weekday         int64\n",
       "workingday      int64\n",
       "weathersit      int64\n",
       "temp          float64\n",
       "atemp         float64\n",
       "hum           float64\n",
       "windspeed     float64\n",
       "casual          int64\n",
       "registered      int64\n",
       "cnt             int64\n",
       "dtype: object"
      ]
     },
     "execution_count": 6,
     "metadata": {},
     "output_type": "execute_result"
    }
   ],
   "source": [
    "#checking the datatype of bikes data\n",
    "bikes.dtypes"
   ]
  },
  {
   "cell_type": "markdown",
   "metadata": {},
   "source": [
    "### Data Manipulation and Cleaning"
   ]
  },
  {
   "cell_type": "markdown",
   "metadata": {},
   "source": [
    "We have received the dataset with some abbreviated names, let's change the names for better understanding and interpretation."
   ]
  },
  {
   "cell_type": "code",
   "execution_count": 7,
   "metadata": {},
   "outputs": [],
   "source": [
    "#renaming the columns\n",
    "bikes.rename(columns = {'yr' : 'year', 'mnth' : 'month', 'hum' : 'humidity', 'cnt' : 'count'}, inplace=True)"
   ]
  },
  {
   "cell_type": "code",
   "execution_count": 8,
   "metadata": {},
   "outputs": [
    {
     "data": {
      "text/html": [
       "<div>\n",
       "<style scoped>\n",
       "    .dataframe tbody tr th:only-of-type {\n",
       "        vertical-align: middle;\n",
       "    }\n",
       "\n",
       "    .dataframe tbody tr th {\n",
       "        vertical-align: top;\n",
       "    }\n",
       "\n",
       "    .dataframe thead th {\n",
       "        text-align: right;\n",
       "    }\n",
       "</style>\n",
       "<table border=\"1\" class=\"dataframe\">\n",
       "  <thead>\n",
       "    <tr style=\"text-align: right;\">\n",
       "      <th></th>\n",
       "      <th>instant</th>\n",
       "      <th>season</th>\n",
       "      <th>year</th>\n",
       "      <th>month</th>\n",
       "      <th>holiday</th>\n",
       "      <th>weekday</th>\n",
       "      <th>workingday</th>\n",
       "      <th>weathersit</th>\n",
       "      <th>temp</th>\n",
       "      <th>atemp</th>\n",
       "      <th>humidity</th>\n",
       "      <th>windspeed</th>\n",
       "      <th>casual</th>\n",
       "      <th>registered</th>\n",
       "      <th>count</th>\n",
       "    </tr>\n",
       "  </thead>\n",
       "  <tbody>\n",
       "    <tr>\n",
       "      <td>instant</td>\n",
       "      <td>1.000</td>\n",
       "      <td>0.414</td>\n",
       "      <td>0.866</td>\n",
       "      <td>0.498</td>\n",
       "      <td>0.016</td>\n",
       "      <td>-0.000</td>\n",
       "      <td>-0.005</td>\n",
       "      <td>-0.022</td>\n",
       "      <td>0.151</td>\n",
       "      <td>0.153</td>\n",
       "      <td>0.016</td>\n",
       "      <td>-0.113</td>\n",
       "      <td>0.276</td>\n",
       "      <td>0.661</td>\n",
       "      <td>0.630</td>\n",
       "    </tr>\n",
       "    <tr>\n",
       "      <td>season</td>\n",
       "      <td>0.414</td>\n",
       "      <td>1.000</td>\n",
       "      <td>-0.000</td>\n",
       "      <td>0.831</td>\n",
       "      <td>-0.011</td>\n",
       "      <td>-0.003</td>\n",
       "      <td>0.014</td>\n",
       "      <td>0.021</td>\n",
       "      <td>0.333</td>\n",
       "      <td>0.342</td>\n",
       "      <td>0.208</td>\n",
       "      <td>-0.230</td>\n",
       "      <td>0.209</td>\n",
       "      <td>0.410</td>\n",
       "      <td>0.405</td>\n",
       "    </tr>\n",
       "    <tr>\n",
       "      <td>year</td>\n",
       "      <td>0.866</td>\n",
       "      <td>-0.000</td>\n",
       "      <td>1.000</td>\n",
       "      <td>-0.000</td>\n",
       "      <td>0.008</td>\n",
       "      <td>-0.005</td>\n",
       "      <td>-0.003</td>\n",
       "      <td>-0.050</td>\n",
       "      <td>0.049</td>\n",
       "      <td>0.047</td>\n",
       "      <td>-0.113</td>\n",
       "      <td>-0.012</td>\n",
       "      <td>0.251</td>\n",
       "      <td>0.597</td>\n",
       "      <td>0.570</td>\n",
       "    </tr>\n",
       "    <tr>\n",
       "      <td>month</td>\n",
       "      <td>0.498</td>\n",
       "      <td>0.831</td>\n",
       "      <td>-0.000</td>\n",
       "      <td>1.000</td>\n",
       "      <td>0.019</td>\n",
       "      <td>0.010</td>\n",
       "      <td>-0.005</td>\n",
       "      <td>0.046</td>\n",
       "      <td>0.219</td>\n",
       "      <td>0.226</td>\n",
       "      <td>0.225</td>\n",
       "      <td>-0.208</td>\n",
       "      <td>0.121</td>\n",
       "      <td>0.292</td>\n",
       "      <td>0.278</td>\n",
       "    </tr>\n",
       "    <tr>\n",
       "      <td>holiday</td>\n",
       "      <td>0.016</td>\n",
       "      <td>-0.011</td>\n",
       "      <td>0.008</td>\n",
       "      <td>0.019</td>\n",
       "      <td>1.000</td>\n",
       "      <td>-0.102</td>\n",
       "      <td>-0.253</td>\n",
       "      <td>-0.034</td>\n",
       "      <td>-0.029</td>\n",
       "      <td>-0.033</td>\n",
       "      <td>-0.016</td>\n",
       "      <td>0.006</td>\n",
       "      <td>0.054</td>\n",
       "      <td>-0.109</td>\n",
       "      <td>-0.069</td>\n",
       "    </tr>\n",
       "    <tr>\n",
       "      <td>weekday</td>\n",
       "      <td>-0.000</td>\n",
       "      <td>-0.003</td>\n",
       "      <td>-0.005</td>\n",
       "      <td>0.010</td>\n",
       "      <td>-0.102</td>\n",
       "      <td>1.000</td>\n",
       "      <td>0.036</td>\n",
       "      <td>0.031</td>\n",
       "      <td>-0.000</td>\n",
       "      <td>-0.008</td>\n",
       "      <td>-0.052</td>\n",
       "      <td>0.014</td>\n",
       "      <td>0.060</td>\n",
       "      <td>0.057</td>\n",
       "      <td>0.068</td>\n",
       "    </tr>\n",
       "    <tr>\n",
       "      <td>workingday</td>\n",
       "      <td>-0.005</td>\n",
       "      <td>0.014</td>\n",
       "      <td>-0.003</td>\n",
       "      <td>-0.005</td>\n",
       "      <td>-0.253</td>\n",
       "      <td>0.036</td>\n",
       "      <td>1.000</td>\n",
       "      <td>0.060</td>\n",
       "      <td>0.053</td>\n",
       "      <td>0.053</td>\n",
       "      <td>0.023</td>\n",
       "      <td>-0.019</td>\n",
       "      <td>-0.518</td>\n",
       "      <td>0.305</td>\n",
       "      <td>0.063</td>\n",
       "    </tr>\n",
       "    <tr>\n",
       "      <td>weathersit</td>\n",
       "      <td>-0.022</td>\n",
       "      <td>0.021</td>\n",
       "      <td>-0.050</td>\n",
       "      <td>0.046</td>\n",
       "      <td>-0.034</td>\n",
       "      <td>0.031</td>\n",
       "      <td>0.060</td>\n",
       "      <td>1.000</td>\n",
       "      <td>-0.120</td>\n",
       "      <td>-0.121</td>\n",
       "      <td>0.590</td>\n",
       "      <td>0.040</td>\n",
       "      <td>-0.246</td>\n",
       "      <td>-0.259</td>\n",
       "      <td>-0.296</td>\n",
       "    </tr>\n",
       "    <tr>\n",
       "      <td>temp</td>\n",
       "      <td>0.151</td>\n",
       "      <td>0.333</td>\n",
       "      <td>0.049</td>\n",
       "      <td>0.219</td>\n",
       "      <td>-0.029</td>\n",
       "      <td>-0.000</td>\n",
       "      <td>0.053</td>\n",
       "      <td>-0.120</td>\n",
       "      <td>1.000</td>\n",
       "      <td>0.992</td>\n",
       "      <td>0.129</td>\n",
       "      <td>-0.158</td>\n",
       "      <td>0.543</td>\n",
       "      <td>0.539</td>\n",
       "      <td>0.627</td>\n",
       "    </tr>\n",
       "    <tr>\n",
       "      <td>atemp</td>\n",
       "      <td>0.153</td>\n",
       "      <td>0.342</td>\n",
       "      <td>0.047</td>\n",
       "      <td>0.226</td>\n",
       "      <td>-0.033</td>\n",
       "      <td>-0.008</td>\n",
       "      <td>0.053</td>\n",
       "      <td>-0.121</td>\n",
       "      <td>0.992</td>\n",
       "      <td>1.000</td>\n",
       "      <td>0.142</td>\n",
       "      <td>-0.184</td>\n",
       "      <td>0.543</td>\n",
       "      <td>0.544</td>\n",
       "      <td>0.631</td>\n",
       "    </tr>\n",
       "    <tr>\n",
       "      <td>humidity</td>\n",
       "      <td>0.016</td>\n",
       "      <td>0.208</td>\n",
       "      <td>-0.113</td>\n",
       "      <td>0.225</td>\n",
       "      <td>-0.016</td>\n",
       "      <td>-0.052</td>\n",
       "      <td>0.023</td>\n",
       "      <td>0.590</td>\n",
       "      <td>0.129</td>\n",
       "      <td>0.142</td>\n",
       "      <td>1.000</td>\n",
       "      <td>-0.249</td>\n",
       "      <td>-0.075</td>\n",
       "      <td>-0.089</td>\n",
       "      <td>-0.099</td>\n",
       "    </tr>\n",
       "    <tr>\n",
       "      <td>windspeed</td>\n",
       "      <td>-0.113</td>\n",
       "      <td>-0.230</td>\n",
       "      <td>-0.012</td>\n",
       "      <td>-0.208</td>\n",
       "      <td>0.006</td>\n",
       "      <td>0.014</td>\n",
       "      <td>-0.019</td>\n",
       "      <td>0.040</td>\n",
       "      <td>-0.158</td>\n",
       "      <td>-0.184</td>\n",
       "      <td>-0.249</td>\n",
       "      <td>1.000</td>\n",
       "      <td>-0.168</td>\n",
       "      <td>-0.218</td>\n",
       "      <td>-0.235</td>\n",
       "    </tr>\n",
       "    <tr>\n",
       "      <td>casual</td>\n",
       "      <td>0.276</td>\n",
       "      <td>0.209</td>\n",
       "      <td>0.251</td>\n",
       "      <td>0.121</td>\n",
       "      <td>0.054</td>\n",
       "      <td>0.060</td>\n",
       "      <td>-0.518</td>\n",
       "      <td>-0.246</td>\n",
       "      <td>0.543</td>\n",
       "      <td>0.543</td>\n",
       "      <td>-0.075</td>\n",
       "      <td>-0.168</td>\n",
       "      <td>1.000</td>\n",
       "      <td>0.394</td>\n",
       "      <td>0.672</td>\n",
       "    </tr>\n",
       "    <tr>\n",
       "      <td>registered</td>\n",
       "      <td>0.661</td>\n",
       "      <td>0.410</td>\n",
       "      <td>0.597</td>\n",
       "      <td>0.292</td>\n",
       "      <td>-0.109</td>\n",
       "      <td>0.057</td>\n",
       "      <td>0.305</td>\n",
       "      <td>-0.259</td>\n",
       "      <td>0.539</td>\n",
       "      <td>0.544</td>\n",
       "      <td>-0.089</td>\n",
       "      <td>-0.218</td>\n",
       "      <td>0.394</td>\n",
       "      <td>1.000</td>\n",
       "      <td>0.945</td>\n",
       "    </tr>\n",
       "    <tr>\n",
       "      <td>count</td>\n",
       "      <td>0.630</td>\n",
       "      <td>0.405</td>\n",
       "      <td>0.570</td>\n",
       "      <td>0.278</td>\n",
       "      <td>-0.069</td>\n",
       "      <td>0.068</td>\n",
       "      <td>0.063</td>\n",
       "      <td>-0.296</td>\n",
       "      <td>0.627</td>\n",
       "      <td>0.631</td>\n",
       "      <td>-0.099</td>\n",
       "      <td>-0.235</td>\n",
       "      <td>0.672</td>\n",
       "      <td>0.945</td>\n",
       "      <td>1.000</td>\n",
       "    </tr>\n",
       "  </tbody>\n",
       "</table>\n",
       "</div>"
      ],
      "text/plain": [
       "            instant  season   year  month  holiday  weekday  workingday  weathersit   temp  atemp  humidity  windspeed  casual  registered  count\n",
       "instant       1.000   0.414  0.866  0.498    0.016   -0.000      -0.005      -0.022  0.151  0.153     0.016     -0.113   0.276       0.661  0.630\n",
       "season        0.414   1.000 -0.000  0.831   -0.011   -0.003       0.014       0.021  0.333  0.342     0.208     -0.230   0.209       0.410  0.405\n",
       "year          0.866  -0.000  1.000 -0.000    0.008   -0.005      -0.003      -0.050  0.049  0.047    -0.113     -0.012   0.251       0.597  0.570\n",
       "month         0.498   0.831 -0.000  1.000    0.019    0.010      -0.005       0.046  0.219  0.226     0.225     -0.208   0.121       0.292  0.278\n",
       "holiday       0.016  -0.011  0.008  0.019    1.000   -0.102      -0.253      -0.034 -0.029 -0.033    -0.016      0.006   0.054      -0.109 -0.069\n",
       "weekday      -0.000  -0.003 -0.005  0.010   -0.102    1.000       0.036       0.031 -0.000 -0.008    -0.052      0.014   0.060       0.057  0.068\n",
       "workingday   -0.005   0.014 -0.003 -0.005   -0.253    0.036       1.000       0.060  0.053  0.053     0.023     -0.019  -0.518       0.305  0.063\n",
       "weathersit   -0.022   0.021 -0.050  0.046   -0.034    0.031       0.060       1.000 -0.120 -0.121     0.590      0.040  -0.246      -0.259 -0.296\n",
       "temp          0.151   0.333  0.049  0.219   -0.029   -0.000       0.053      -0.120  1.000  0.992     0.129     -0.158   0.543       0.539  0.627\n",
       "atemp         0.153   0.342  0.047  0.226   -0.033   -0.008       0.053      -0.121  0.992  1.000     0.142     -0.184   0.543       0.544  0.631\n",
       "humidity      0.016   0.208 -0.113  0.225   -0.016   -0.052       0.023       0.590  0.129  0.142     1.000     -0.249  -0.075      -0.089 -0.099\n",
       "windspeed    -0.113  -0.230 -0.012 -0.208    0.006    0.014      -0.019       0.040 -0.158 -0.184    -0.249      1.000  -0.168      -0.218 -0.235\n",
       "casual        0.276   0.209  0.251  0.121    0.054    0.060      -0.518      -0.246  0.543  0.543    -0.075     -0.168   1.000       0.394  0.672\n",
       "registered    0.661   0.410  0.597  0.292   -0.109    0.057       0.305      -0.259  0.539  0.544    -0.089     -0.218   0.394       1.000  0.945\n",
       "count         0.630   0.405  0.570  0.278   -0.069    0.068       0.063      -0.296  0.627  0.631    -0.099     -0.235   0.672       0.945  1.000"
      ]
     },
     "execution_count": 8,
     "metadata": {},
     "output_type": "execute_result"
    }
   ],
   "source": [
    "#let's look at the correlation\n",
    "bikes.corr()"
   ]
  },
  {
   "cell_type": "markdown",
   "metadata": {},
   "source": [
    "````year````, ````temp```` and ````atemp```` are highly correlated with our target variable ````count````."
   ]
  },
  {
   "cell_type": "markdown",
   "metadata": {},
   "source": [
    "We have some demographic and behavioural variables that we do not need for our further analysis and model building.\n",
    "\n",
    "````dteday```` : We already have the variables like year, month, weekday, holiday so we don't need the date data.\n",
    "\n",
    "````instant```` : It is just the number of instance recorded.\n",
    "\n",
    "````atemp```` : adjusted temperature is variable derived using the temp, humidity and windspeed so it shows a bias and high correlation towards this variables. We can easily get this information with other  variables.\n",
    "\n",
    "````casual````, ````registered```` : It is the count of bikes with their rental type. casual + registered = count, it is highly correlated with our target variable and it leaks information about the same.\n",
    "\n",
    "We can drop this variables as they are not useful for our analysis."
   ]
  },
  {
   "cell_type": "code",
   "execution_count": 9,
   "metadata": {},
   "outputs": [],
   "source": [
    "#dropping the unnecessary variables\n",
    "var_list = ['dteday', 'instant', 'atemp', 'casual', 'registered']\n",
    "bikes.drop(var_list, axis=1, inplace = True)"
   ]
  },
  {
   "cell_type": "code",
   "execution_count": 10,
   "metadata": {},
   "outputs": [
    {
     "data": {
      "text/plain": [
       "False    499\n",
       "True     231\n",
       "dtype: int64"
      ]
     },
     "execution_count": 10,
     "metadata": {},
     "output_type": "execute_result"
    }
   ],
   "source": [
    "#We have the data for both working day and holiday, they should be complementary to each other. Let's confirm it.\n",
    "((bikes['holiday'] == 1 )| (bikes['workingday'] == 0)).value_counts()"
   ]
  },
  {
   "cell_type": "code",
   "execution_count": 11,
   "metadata": {},
   "outputs": [
    {
     "data": {
      "text/plain": [
       "1    499\n",
       "0    231\n",
       "Name: workingday, dtype: int64"
      ]
     },
     "execution_count": 11,
     "metadata": {},
     "output_type": "execute_result"
    }
   ],
   "source": [
    "bikes.workingday.value_counts()"
   ]
  },
  {
   "cell_type": "markdown",
   "metadata": {},
   "source": [
    "We can drop one variable as we can get the same information with only one variable."
   ]
  },
  {
   "cell_type": "code",
   "execution_count": 12,
   "metadata": {},
   "outputs": [],
   "source": [
    "bikes.drop(['holiday'], axis = 1, inplace = True)"
   ]
  },
  {
   "cell_type": "markdown",
   "metadata": {},
   "source": [
    "We have some categorical variables with the integer mapping, we need to map them again with the labels."
   ]
  },
  {
   "cell_type": "code",
   "execution_count": 13,
   "metadata": {},
   "outputs": [
    {
     "name": "stdout",
     "output_type": "stream",
     "text": [
      "fall      188\n",
      "summer    184\n",
      "spring    180\n",
      "winter    178\n",
      "Name: season, dtype: int64\n",
      "\n",
      "\n",
      "2019    365\n",
      "2018    365\n",
      "Name: year, dtype: int64\n",
      "\n",
      "\n",
      "Oct     62\n",
      "May     62\n",
      "July    62\n",
      "Dec     62\n",
      "Jan     62\n",
      "Aug     62\n",
      "Mar     62\n",
      "June    60\n",
      "Nov     60\n",
      "Apr     60\n",
      "Sept    60\n",
      "Feb     56\n",
      "Name: month, dtype: int64\n",
      "\n",
      "\n",
      "Sat     105\n",
      "Mon     105\n",
      "Sun     105\n",
      "Fri     104\n",
      "Thur    104\n",
      "Tue     104\n",
      "Wed     103\n",
      "Name: weekday, dtype: int64\n",
      "\n",
      "\n",
      "working_day    499\n",
      "holiday        231\n",
      "Name: workingday, dtype: int64\n",
      "\n",
      "\n",
      "Clear              463\n",
      "Cloudy/Misty       246\n",
      "Light Rain/Snow     21\n",
      "Name: weathersit, dtype: int64\n",
      "\n",
      "\n"
     ]
    }
   ],
   "source": [
    "#creating the functions to map the ints to labels\n",
    "def season_convert(season):\n",
    "    return season.map({1 : 'spring', 2 : 'summer', 3 : 'fall', 4 : 'winter'})\n",
    "\n",
    "def year_convert(year):\n",
    "    return year.map({0 : 2018, 1 : 2019})\n",
    "\n",
    "def month_convert(month):\n",
    "    return month.map({1 : 'Jan', 2 : 'Feb', 3 : 'Mar', 4 : 'Apr', 5 : 'May', 6 : 'June', 7 : 'July', 8 : 'Aug', 9 : 'Sept', 10 : 'Oct', 11 : 'Nov', 12 : 'Dec'})\n",
    "\n",
    "def weekday_convert(weekday):\n",
    "    return weekday.map({0 : 'Sun', 1 : 'Mon', 2 : 'Tue', 3 : 'Wed', 4 : 'Thur', 5 : 'Fri', 6 : 'Sat'})\n",
    "\n",
    "def workday_convert(day):\n",
    "    return day.map({ 1 : 'working_day', 0 : 'holiday'})\n",
    "\n",
    "def weather_convert(weather):\n",
    "    return weather.map({1 : 'Clear', 2 : 'Cloudy/Misty', 3 : 'Light Rain/Snow', 4 : 'Heavy Rain/Snow'})\n",
    "\n",
    "#applying the functions and checking their value counts\n",
    "bikes.season = bikes[['season']].apply(season_convert)\n",
    "print(bikes.season.value_counts())\n",
    "print('\\n')\n",
    "\n",
    "bikes.year = bikes[['year']].apply(year_convert)\n",
    "print(bikes.year.value_counts())\n",
    "print('\\n')\n",
    "\n",
    "bikes.month = bikes[['month']].apply(month_convert)\n",
    "print(bikes.month.value_counts())\n",
    "print('\\n')\n",
    "\n",
    "bikes.weekday = bikes[['weekday']].apply(weekday_convert)\n",
    "print(bikes.weekday.value_counts())\n",
    "print('\\n')\n",
    "\n",
    "bikes.workingday = bikes[['workingday']].apply(workday_convert)\n",
    "print(bikes.workingday.value_counts())\n",
    "print('\\n')\n",
    "\n",
    "bikes.weathersit = bikes[['weathersit']].apply(weather_convert)\n",
    "print(bikes.weathersit.value_counts())\n",
    "print('\\n')"
   ]
  },
  {
   "cell_type": "markdown",
   "metadata": {},
   "source": [
    "### Single Variate and Bivariate Analysis"
   ]
  },
  {
   "cell_type": "markdown",
   "metadata": {},
   "source": [
    "Let's look at the spread of the target variable i.e count of rental bikes"
   ]
  },
  {
   "cell_type": "code",
   "execution_count": 14,
   "metadata": {},
   "outputs": [
    {
     "data": {
      "text/plain": [
       "<matplotlib.axes._subplots.AxesSubplot at 0x24e2d3755c8>"
      ]
     },
     "execution_count": 14,
     "metadata": {},
     "output_type": "execute_result"
    },
    {
     "data": {
      "image/png": "[encoded data removed]",
      "text/plain": [
       "<Figure size 432x288 with 1 Axes>"
      ]
     },
     "metadata": {
      "needs_background": "light"
     },
     "output_type": "display_data"
    }
   ],
   "source": [
    "sns.distplot(bikes['count'])"
   ]
  },
  {
   "cell_type": "markdown",
   "metadata": {},
   "source": [
    "Let's look at the linear realtion of our independent variables with our target variable."
   ]
  },
  {
   "cell_type": "code",
   "execution_count": 15,
   "metadata": {},
   "outputs": [
    {
     "data": {
      "text/plain": [
       "<seaborn.axisgrid.PairGrid at 0x24e31e02748>"
      ]
     },
     "execution_count": 15,
     "metadata": {},
     "output_type": "execute_result"
    },
    {
     "data": {
      "image/png": "[encoded data removed]",
      "text/plain": [
       "<Figure size 1080x360 with 3 Axes>"
      ]
     },
     "metadata": {
      "needs_background": "light"
     },
     "output_type": "display_data"
    }
   ],
   "source": [
    "sns.pairplot(data=bikes, x_vars = ['temp', 'humidity', 'windspeed'], y_vars = 'count', kind = 'scatter', height = 5)"
   ]
  },
  {
   "cell_type": "markdown",
   "metadata": {},
   "source": [
    "- temp has a clear linear relation with the counts data. Number of rental bikes are increasing with increasing temp."
   ]
  },
  {
   "cell_type": "code",
   "execution_count": 16,
   "metadata": {},
   "outputs": [
    {
     "data": {
      "image/png": "[encoded data removed]",
      "text/plain": [
       "<Figure size 1440x864 with 6 Axes>"
      ]
     },
     "metadata": {
      "needs_background": "light"
     },
     "output_type": "display_data"
    }
   ],
   "source": [
    "plt.figure(figsize = (20, 12))\n",
    "\n",
    "plt.subplot(3, 2, 1)\n",
    "sns.boxplot(x = 'season', y = 'count', data=bikes)\n",
    "\n",
    "plt.subplot(3, 2, 2)\n",
    "sns.boxplot(x = 'year', y = 'count', data=bikes)\n",
    "\n",
    "plt.subplot(3, 2, 3)\n",
    "sns.boxplot(x = 'month', y = 'count', data=bikes)\n",
    "\n",
    "plt.subplot(3, 2, 4)\n",
    "sns.boxplot(x = 'weekday', y = 'count', data=bikes)\n",
    "\n",
    "plt.subplot(3, 2, 5)\n",
    "sns.boxplot(x = 'workingday', y = 'count', data=bikes)\n",
    "\n",
    "plt.subplot(3, 2, 6)\n",
    "sns.boxplot(x = 'weathersit', y = 'count', data=bikes)\n",
    "\n",
    "plt.show()"
   ]
  },
  {
   "cell_type": "markdown",
   "metadata": {},
   "source": [
    "- Number of rental bikes increase when the season is fall or summer an decreases when the season is spring.\n",
    "- Number of rentals are incresed with the year.\n",
    "- Number of Retals increase as we go from month Jan --> Oct and decreases after that. Sept and Oct shows highest rentals. We can say that this trend can be explained by the seasons.\n",
    "- Weekdays don't show clear realtion with rentals, but rentls are high for Sundays and Thursdays.\n",
    "- Holidays show lower count of rentals than working days."
   ]
  },
  {
   "cell_type": "code",
   "execution_count": 17,
   "metadata": {},
   "outputs": [
    {
     "data": {
      "image/png": "[encoded data removed]",
      "text/plain": [
       "<Figure size 1080x576 with 3 Axes>"
      ]
     },
     "metadata": {
      "needs_background": "light"
     },
     "output_type": "display_data"
    }
   ],
   "source": [
    "plt.figure(figsize = (15, 8))\n",
    "\n",
    "plt.subplot(3, 3, 1)\n",
    "sns.distplot(bikes['temp'])\n",
    "\n",
    "plt.subplot(3, 3, 2)\n",
    "sns.distplot(bikes['humidity'])\n",
    "\n",
    "plt.subplot(3, 3, 3)\n",
    "sns.distplot(bikes['windspeed'])\n",
    "\n",
    "plt.show()"
   ]
  },
  {
   "cell_type": "markdown",
   "metadata": {},
   "source": [
    "- humidity shows a little skewness in data telling the presence of outliers.\n",
    "- windspeed also is a little skewed, we have some outliers here to train the data with it."
   ]
  },
  {
   "cell_type": "code",
   "execution_count": 18,
   "metadata": {},
   "outputs": [
    {
     "data": {
      "image/png": "[encoded data removed]",
      "text/plain": [
       "<Figure size 576x432 with 2 Axes>"
      ]
     },
     "metadata": {
      "needs_background": "light"
     },
     "output_type": "display_data"
    }
   ],
   "source": [
    "#Let's visualize the correlation with the heatmap\n",
    "fig, ax = plt.subplots()\n",
    "fig.set_size_inches(8, 6)\n",
    "sns.heatmap(bikes.corr(), annot=True, linewidths=2, vmax=0.8)\n",
    "plt.show()"
   ]
  },
  {
   "cell_type": "markdown",
   "metadata": {},
   "source": [
    "### Data Preparation"
   ]
  },
  {
   "cell_type": "markdown",
   "metadata": {},
   "source": [
    "- year and temp are moderately correlated with the count variable"
   ]
  },
  {
   "cell_type": "markdown",
   "metadata": {},
   "source": [
    "We have some categorical variables, for getting better insights from the data, we will create the dummy variables(n-1) for further analysis."
   ]
  },
  {
   "cell_type": "code",
   "execution_count": 19,
   "metadata": {},
   "outputs": [],
   "source": [
    "#creating a dummy variables dataframe, we are using drop_first to achieve n-1 levels\n",
    "years = pd.get_dummies(bikes['year'], drop_first = True)\n",
    "seasons = pd.get_dummies(bikes['season'], drop_first = True)\n",
    "months = pd.get_dummies(bikes['month'], drop_first = True)\n",
    "weekdays = pd.get_dummies(bikes['weekday'], drop_first = True)\n",
    "workdays = pd.get_dummies(bikes['workingday'], drop_first = True)\n",
    "weathersits = pd.get_dummies(bikes['weathersit'], drop_first = True)\n",
    "\n",
    "#let's concat the dummy variables with our original dataframe, and drop the original columns of categorical variables\n",
    "bikes = pd.concat([bikes, years, seasons, months, weekdays, workdays, weathersits], axis = 1)\n",
    "bikes = bikes.drop(columns = ['year', 'season', 'month', 'weekday', 'workingday', 'weathersit'])"
   ]
  },
  {
   "cell_type": "code",
   "execution_count": 20,
   "metadata": {},
   "outputs": [
    {
     "data": {
      "text/html": [
       "<div>\n",
       "<style scoped>\n",
       "    .dataframe tbody tr th:only-of-type {\n",
       "        vertical-align: middle;\n",
       "    }\n",
       "\n",
       "    .dataframe tbody tr th {\n",
       "        vertical-align: top;\n",
       "    }\n",
       "\n",
       "    .dataframe thead th {\n",
       "        text-align: right;\n",
       "    }\n",
       "</style>\n",
       "<table border=\"1\" class=\"dataframe\">\n",
       "  <thead>\n",
       "    <tr style=\"text-align: right;\">\n",
       "      <th></th>\n",
       "      <th>temp</th>\n",
       "      <th>humidity</th>\n",
       "      <th>windspeed</th>\n",
       "      <th>count</th>\n",
       "      <th>2019</th>\n",
       "      <th>spring</th>\n",
       "      <th>summer</th>\n",
       "      <th>winter</th>\n",
       "      <th>Aug</th>\n",
       "      <th>Dec</th>\n",
       "      <th>Feb</th>\n",
       "      <th>Jan</th>\n",
       "      <th>July</th>\n",
       "      <th>June</th>\n",
       "      <th>Mar</th>\n",
       "      <th>May</th>\n",
       "      <th>Nov</th>\n",
       "      <th>Oct</th>\n",
       "      <th>Sept</th>\n",
       "      <th>Mon</th>\n",
       "      <th>Sat</th>\n",
       "      <th>Sun</th>\n",
       "      <th>Thur</th>\n",
       "      <th>Tue</th>\n",
       "      <th>Wed</th>\n",
       "      <th>working_day</th>\n",
       "      <th>Cloudy/Misty</th>\n",
       "      <th>Light Rain/Snow</th>\n",
       "    </tr>\n",
       "  </thead>\n",
       "  <tbody>\n",
       "    <tr>\n",
       "      <td>0</td>\n",
       "      <td>14.111</td>\n",
       "      <td>80.583</td>\n",
       "      <td>10.750</td>\n",
       "      <td>985</td>\n",
       "      <td>0</td>\n",
       "      <td>1</td>\n",
       "      <td>0</td>\n",
       "      <td>0</td>\n",
       "      <td>0</td>\n",
       "      <td>0</td>\n",
       "      <td>0</td>\n",
       "      <td>1</td>\n",
       "      <td>0</td>\n",
       "      <td>0</td>\n",
       "      <td>0</td>\n",
       "      <td>0</td>\n",
       "      <td>0</td>\n",
       "      <td>0</td>\n",
       "      <td>0</td>\n",
       "      <td>0</td>\n",
       "      <td>1</td>\n",
       "      <td>0</td>\n",
       "      <td>0</td>\n",
       "      <td>0</td>\n",
       "      <td>0</td>\n",
       "      <td>0</td>\n",
       "      <td>1</td>\n",
       "      <td>0</td>\n",
       "    </tr>\n",
       "    <tr>\n",
       "      <td>1</td>\n",
       "      <td>14.903</td>\n",
       "      <td>69.609</td>\n",
       "      <td>16.652</td>\n",
       "      <td>801</td>\n",
       "      <td>0</td>\n",
       "      <td>1</td>\n",
       "      <td>0</td>\n",
       "      <td>0</td>\n",
       "      <td>0</td>\n",
       "      <td>0</td>\n",
       "      <td>0</td>\n",
       "      <td>1</td>\n",
       "      <td>0</td>\n",
       "      <td>0</td>\n",
       "      <td>0</td>\n",
       "      <td>0</td>\n",
       "      <td>0</td>\n",
       "      <td>0</td>\n",
       "      <td>0</td>\n",
       "      <td>0</td>\n",
       "      <td>0</td>\n",
       "      <td>1</td>\n",
       "      <td>0</td>\n",
       "      <td>0</td>\n",
       "      <td>0</td>\n",
       "      <td>0</td>\n",
       "      <td>1</td>\n",
       "      <td>0</td>\n",
       "    </tr>\n",
       "    <tr>\n",
       "      <td>2</td>\n",
       "      <td>8.051</td>\n",
       "      <td>43.727</td>\n",
       "      <td>16.637</td>\n",
       "      <td>1349</td>\n",
       "      <td>0</td>\n",
       "      <td>1</td>\n",
       "      <td>0</td>\n",
       "      <td>0</td>\n",
       "      <td>0</td>\n",
       "      <td>0</td>\n",
       "      <td>0</td>\n",
       "      <td>1</td>\n",
       "      <td>0</td>\n",
       "      <td>0</td>\n",
       "      <td>0</td>\n",
       "      <td>0</td>\n",
       "      <td>0</td>\n",
       "      <td>0</td>\n",
       "      <td>0</td>\n",
       "      <td>1</td>\n",
       "      <td>0</td>\n",
       "      <td>0</td>\n",
       "      <td>0</td>\n",
       "      <td>0</td>\n",
       "      <td>0</td>\n",
       "      <td>1</td>\n",
       "      <td>0</td>\n",
       "      <td>0</td>\n",
       "    </tr>\n",
       "    <tr>\n",
       "      <td>3</td>\n",
       "      <td>8.200</td>\n",
       "      <td>59.044</td>\n",
       "      <td>10.740</td>\n",
       "      <td>1562</td>\n",
       "      <td>0</td>\n",
       "      <td>1</td>\n",
       "      <td>0</td>\n",
       "      <td>0</td>\n",
       "      <td>0</td>\n",
       "      <td>0</td>\n",
       "      <td>0</td>\n",
       "      <td>1</td>\n",
       "      <td>0</td>\n",
       "      <td>0</td>\n",
       "      <td>0</td>\n",
       "      <td>0</td>\n",
       "      <td>0</td>\n",
       "      <td>0</td>\n",
       "      <td>0</td>\n",
       "      <td>0</td>\n",
       "      <td>0</td>\n",
       "      <td>0</td>\n",
       "      <td>0</td>\n",
       "      <td>1</td>\n",
       "      <td>0</td>\n",
       "      <td>1</td>\n",
       "      <td>0</td>\n",
       "      <td>0</td>\n",
       "    </tr>\n",
       "    <tr>\n",
       "      <td>4</td>\n",
       "      <td>9.305</td>\n",
       "      <td>43.696</td>\n",
       "      <td>12.522</td>\n",
       "      <td>1600</td>\n",
       "      <td>0</td>\n",
       "      <td>1</td>\n",
       "      <td>0</td>\n",
       "      <td>0</td>\n",
       "      <td>0</td>\n",
       "      <td>0</td>\n",
       "      <td>0</td>\n",
       "      <td>1</td>\n",
       "      <td>0</td>\n",
       "      <td>0</td>\n",
       "      <td>0</td>\n",
       "      <td>0</td>\n",
       "      <td>0</td>\n",
       "      <td>0</td>\n",
       "      <td>0</td>\n",
       "      <td>0</td>\n",
       "      <td>0</td>\n",
       "      <td>0</td>\n",
       "      <td>0</td>\n",
       "      <td>0</td>\n",
       "      <td>1</td>\n",
       "      <td>1</td>\n",
       "      <td>0</td>\n",
       "      <td>0</td>\n",
       "    </tr>\n",
       "  </tbody>\n",
       "</table>\n",
       "</div>"
      ],
      "text/plain": [
       "    temp  humidity  windspeed  count  2019  spring  summer  winter  Aug  Dec  Feb  Jan  July  June  Mar  May  Nov  Oct  Sept  Mon  Sat  Sun  Thur  Tue  Wed  working_day  Cloudy/Misty  Light Rain/Snow\n",
       "0 14.111    80.583     10.750    985     0       1       0       0    0    0    0    1     0     0    0    0    0    0     0    0    1    0     0    0    0            0             1                0\n",
       "1 14.903    69.609     16.652    801     0       1       0       0    0    0    0    1     0     0    0    0    0    0     0    0    0    1     0    0    0            0             1                0\n",
       "2  8.051    43.727     16.637   1349     0       1       0       0    0    0    0    1     0     0    0    0    0    0     0    1    0    0     0    0    0            1             0                0\n",
       "3  8.200    59.044     10.740   1562     0       1       0       0    0    0    0    1     0     0    0    0    0    0     0    0    0    0     0    1    0            1             0                0\n",
       "4  9.305    43.696     12.522   1600     0       1       0       0    0    0    0    1     0     0    0    0    0    0     0    0    0    0     0    0    1            1             0                0"
      ]
     },
     "execution_count": 20,
     "metadata": {},
     "output_type": "execute_result"
    }
   ],
   "source": [
    "#let's see the first 5 rows of our updated dataframe\n",
    "bikes.head()"
   ]
  },
  {
   "cell_type": "code",
   "execution_count": 21,
   "metadata": {},
   "outputs": [
    {
     "data": {
      "text/plain": [
       "Index(['temp', 'humidity', 'windspeed', 'count', 2019, 'spring', 'summer', 'winter', 'Aug', 'Dec', 'Feb', 'Jan', 'July', 'June', 'Mar', 'May', 'Nov', 'Oct', 'Sept', 'Mon', 'Sat', 'Sun', 'Thur', 'Tue', 'Wed', 'working_day', 'Cloudy/Misty', 'Light Rain/Snow'], dtype='object')"
      ]
     },
     "execution_count": 21,
     "metadata": {},
     "output_type": "execute_result"
    }
   ],
   "source": [
    "#columns of the data\n",
    "bikes.columns"
   ]
  },
  {
   "cell_type": "code",
   "execution_count": 22,
   "metadata": {},
   "outputs": [
    {
     "name": "stdout",
     "output_type": "stream",
     "text": [
      "(510, 28)\n",
      "(219, 28)\n"
     ]
    }
   ],
   "source": [
    "#now, let's divide the data for training and testing\n",
    "np.random.seed(0)\n",
    "\n",
    "df_train, df_test = train_test_split(bikes, train_size = 0.7, test_size = 0.3, random_state = 100)\n",
    "print(df_train.shape)\n",
    "print(df_test.shape)"
   ]
  },
  {
   "cell_type": "code",
   "execution_count": 23,
   "metadata": {},
   "outputs": [],
   "source": [
    "#We have the numerical variables with different scales than our categorical variables, lets scale them and get all the data at same scale \n",
    "num_varlist = ['temp', 'humidity', 'windspeed']\n",
    "\n",
    "scaler = MinMaxScaler()\n",
    "\n",
    "df_train[num_varlist] = scaler.fit_transform(df_train[num_varlist])\n",
    "df_test[num_varlist] = scaler.transform(df_test[num_varlist])"
   ]
  },
  {
   "cell_type": "markdown",
   "metadata": {},
   "source": [
    "Now, let's prepare the X and y data for both the train and test set."
   ]
  },
  {
   "cell_type": "code",
   "execution_count": 24,
   "metadata": {},
   "outputs": [],
   "source": [
    "#training set\n",
    "y_train = df_train.pop('count')\n",
    "X_train = df_train\n",
    "\n",
    "#testing set\n",
    "y_test = df_test.pop('count')\n",
    "X_test = df_test"
   ]
  },
  {
   "cell_type": "code",
   "execution_count": 25,
   "metadata": {},
   "outputs": [
    {
     "data": {
      "text/plain": [
       "653    7534\n",
       "576    7216\n",
       "426    4066\n",
       "728    1796\n",
       "482    4220\n",
       "Name: count, dtype: int64"
      ]
     },
     "execution_count": 25,
     "metadata": {},
     "output_type": "execute_result"
    }
   ],
   "source": [
    "#first 5 values for target train variable\n",
    "y_train.head()"
   ]
  },
  {
   "cell_type": "code",
   "execution_count": 26,
   "metadata": {},
   "outputs": [
    {
     "data": {
      "text/html": [
       "<div>\n",
       "<style scoped>\n",
       "    .dataframe tbody tr th:only-of-type {\n",
       "        vertical-align: middle;\n",
       "    }\n",
       "\n",
       "    .dataframe tbody tr th {\n",
       "        vertical-align: top;\n",
       "    }\n",
       "\n",
       "    .dataframe thead th {\n",
       "        text-align: right;\n",
       "    }\n",
       "</style>\n",
       "<table border=\"1\" class=\"dataframe\">\n",
       "  <thead>\n",
       "    <tr style=\"text-align: right;\">\n",
       "      <th></th>\n",
       "      <th>temp</th>\n",
       "      <th>humidity</th>\n",
       "      <th>windspeed</th>\n",
       "      <th>2019</th>\n",
       "      <th>spring</th>\n",
       "      <th>summer</th>\n",
       "      <th>winter</th>\n",
       "      <th>Aug</th>\n",
       "      <th>Dec</th>\n",
       "      <th>Feb</th>\n",
       "      <th>Jan</th>\n",
       "      <th>July</th>\n",
       "      <th>June</th>\n",
       "      <th>Mar</th>\n",
       "      <th>May</th>\n",
       "      <th>Nov</th>\n",
       "      <th>Oct</th>\n",
       "      <th>Sept</th>\n",
       "      <th>Mon</th>\n",
       "      <th>Sat</th>\n",
       "      <th>Sun</th>\n",
       "      <th>Thur</th>\n",
       "      <th>Tue</th>\n",
       "      <th>Wed</th>\n",
       "      <th>working_day</th>\n",
       "      <th>Cloudy/Misty</th>\n",
       "      <th>Light Rain/Snow</th>\n",
       "    </tr>\n",
       "  </thead>\n",
       "  <tbody>\n",
       "    <tr>\n",
       "      <td>653</td>\n",
       "      <td>0.510</td>\n",
       "      <td>0.575</td>\n",
       "      <td>0.301</td>\n",
       "      <td>1</td>\n",
       "      <td>0</td>\n",
       "      <td>0</td>\n",
       "      <td>1</td>\n",
       "      <td>0</td>\n",
       "      <td>0</td>\n",
       "      <td>0</td>\n",
       "      <td>0</td>\n",
       "      <td>0</td>\n",
       "      <td>0</td>\n",
       "      <td>0</td>\n",
       "      <td>0</td>\n",
       "      <td>0</td>\n",
       "      <td>1</td>\n",
       "      <td>0</td>\n",
       "      <td>0</td>\n",
       "      <td>0</td>\n",
       "      <td>0</td>\n",
       "      <td>0</td>\n",
       "      <td>1</td>\n",
       "      <td>0</td>\n",
       "      <td>1</td>\n",
       "      <td>0</td>\n",
       "      <td>0</td>\n",
       "    </tr>\n",
       "    <tr>\n",
       "      <td>576</td>\n",
       "      <td>0.815</td>\n",
       "      <td>0.726</td>\n",
       "      <td>0.265</td>\n",
       "      <td>1</td>\n",
       "      <td>0</td>\n",
       "      <td>0</td>\n",
       "      <td>0</td>\n",
       "      <td>0</td>\n",
       "      <td>0</td>\n",
       "      <td>0</td>\n",
       "      <td>0</td>\n",
       "      <td>1</td>\n",
       "      <td>0</td>\n",
       "      <td>0</td>\n",
       "      <td>0</td>\n",
       "      <td>0</td>\n",
       "      <td>0</td>\n",
       "      <td>0</td>\n",
       "      <td>0</td>\n",
       "      <td>0</td>\n",
       "      <td>0</td>\n",
       "      <td>0</td>\n",
       "      <td>1</td>\n",
       "      <td>0</td>\n",
       "      <td>1</td>\n",
       "      <td>0</td>\n",
       "      <td>0</td>\n",
       "    </tr>\n",
       "    <tr>\n",
       "      <td>426</td>\n",
       "      <td>0.442</td>\n",
       "      <td>0.640</td>\n",
       "      <td>0.255</td>\n",
       "      <td>1</td>\n",
       "      <td>1</td>\n",
       "      <td>0</td>\n",
       "      <td>0</td>\n",
       "      <td>0</td>\n",
       "      <td>0</td>\n",
       "      <td>0</td>\n",
       "      <td>0</td>\n",
       "      <td>0</td>\n",
       "      <td>0</td>\n",
       "      <td>1</td>\n",
       "      <td>0</td>\n",
       "      <td>0</td>\n",
       "      <td>0</td>\n",
       "      <td>0</td>\n",
       "      <td>0</td>\n",
       "      <td>1</td>\n",
       "      <td>0</td>\n",
       "      <td>0</td>\n",
       "      <td>0</td>\n",
       "      <td>0</td>\n",
       "      <td>0</td>\n",
       "      <td>1</td>\n",
       "      <td>0</td>\n",
       "    </tr>\n",
       "    <tr>\n",
       "      <td>728</td>\n",
       "      <td>0.245</td>\n",
       "      <td>0.498</td>\n",
       "      <td>0.663</td>\n",
       "      <td>1</td>\n",
       "      <td>1</td>\n",
       "      <td>0</td>\n",
       "      <td>0</td>\n",
       "      <td>0</td>\n",
       "      <td>1</td>\n",
       "      <td>0</td>\n",
       "      <td>0</td>\n",
       "      <td>0</td>\n",
       "      <td>0</td>\n",
       "      <td>0</td>\n",
       "      <td>0</td>\n",
       "      <td>0</td>\n",
       "      <td>0</td>\n",
       "      <td>0</td>\n",
       "      <td>0</td>\n",
       "      <td>0</td>\n",
       "      <td>1</td>\n",
       "      <td>0</td>\n",
       "      <td>0</td>\n",
       "      <td>0</td>\n",
       "      <td>0</td>\n",
       "      <td>0</td>\n",
       "      <td>0</td>\n",
       "    </tr>\n",
       "    <tr>\n",
       "      <td>482</td>\n",
       "      <td>0.396</td>\n",
       "      <td>0.505</td>\n",
       "      <td>0.188</td>\n",
       "      <td>1</td>\n",
       "      <td>0</td>\n",
       "      <td>1</td>\n",
       "      <td>0</td>\n",
       "      <td>0</td>\n",
       "      <td>0</td>\n",
       "      <td>0</td>\n",
       "      <td>0</td>\n",
       "      <td>0</td>\n",
       "      <td>0</td>\n",
       "      <td>0</td>\n",
       "      <td>0</td>\n",
       "      <td>0</td>\n",
       "      <td>0</td>\n",
       "      <td>0</td>\n",
       "      <td>0</td>\n",
       "      <td>1</td>\n",
       "      <td>0</td>\n",
       "      <td>0</td>\n",
       "      <td>0</td>\n",
       "      <td>0</td>\n",
       "      <td>0</td>\n",
       "      <td>1</td>\n",
       "      <td>0</td>\n",
       "    </tr>\n",
       "  </tbody>\n",
       "</table>\n",
       "</div>"
      ],
      "text/plain": [
       "     temp  humidity  windspeed  2019  spring  summer  winter  Aug  Dec  Feb  Jan  July  June  Mar  May  Nov  Oct  Sept  Mon  Sat  Sun  Thur  Tue  Wed  working_day  Cloudy/Misty  Light Rain/Snow\n",
       "653 0.510     0.575      0.301     1       0       0       1    0    0    0    0     0     0    0    0    0    1     0    0    0    0     0    1    0            1             0                0\n",
       "576 0.815     0.726      0.265     1       0       0       0    0    0    0    0     1     0    0    0    0    0     0    0    0    0     0    1    0            1             0                0\n",
       "426 0.442     0.640      0.255     1       1       0       0    0    0    0    0     0     0    1    0    0    0     0    0    1    0     0    0    0            0             1                0\n",
       "728 0.245     0.498      0.663     1       1       0       0    0    1    0    0     0     0    0    0    0    0     0    0    0    1     0    0    0            0             0                0\n",
       "482 0.396     0.505      0.188     1       0       1       0    0    0    0    0     0     0    0    0    0    0     0    0    1    0     0    0    0            0             1                0"
      ]
     },
     "execution_count": 26,
     "metadata": {},
     "output_type": "execute_result"
    }
   ],
   "source": [
    "#first 5 values for independent train variable\n",
    "X_train.head()"
   ]
  },
  {
   "cell_type": "markdown",
   "metadata": {},
   "source": [
    "### Model Building"
   ]
  },
  {
   "cell_type": "markdown",
   "metadata": {},
   "source": [
    "Let's start creating the model manually with all the independent variables."
   ]
  },
  {
   "cell_type": "code",
   "execution_count": 27,
   "metadata": {},
   "outputs": [],
   "source": [
    "#adding the constant to X_train data(intercept)\n",
    "X_train_sm  = sm.add_constant(X_train)\n",
    "\n",
    "#building the model\n",
    "lr = sm.OLS(y_train, X_train_sm)\n",
    "lr = lr.fit()"
   ]
  },
  {
   "cell_type": "code",
   "execution_count": 28,
   "metadata": {},
   "outputs": [
    {
     "data": {
      "text/plain": [
       "const              2238.837\n",
       "temp               3916.282\n",
       "humidity          -1315.448\n",
       "windspeed         -1620.652\n",
       "2019               2017.550\n",
       "spring             -418.598\n",
       "summer              336.594\n",
       "winter              920.021\n",
       "Aug                 125.199\n",
       "Dec                -396.233\n",
       "Feb                -280.593\n",
       "Jan                -545.654\n",
       "July               -350.723\n",
       "June                -25.836\n",
       "Mar                   9.084\n",
       "May                 208.086\n",
       "Nov                -363.772\n",
       "Oct                  65.482\n",
       "Sept                704.573\n",
       "Mon                -181.721\n",
       "Sat                 751.248\n",
       "Sun                 277.225\n",
       "Thur                -80.286\n",
       "Tue                -164.191\n",
       "Wed                 -46.828\n",
       "working_day         755.553\n",
       "Cloudy/Misty       -530.789\n",
       "Light Rain/Snow   -2237.693\n",
       "dtype: float64"
      ]
     },
     "execution_count": 28,
     "metadata": {},
     "output_type": "execute_result"
    }
   ],
   "source": [
    "#checking the coefficients\n",
    "lr.params"
   ]
  },
  {
   "cell_type": "code",
   "execution_count": 29,
   "metadata": {},
   "outputs": [
    {
     "data": {
      "text/html": [
       "<table class=\"simpletable\">\n",
       "<caption>OLS Regression Results</caption>\n",
       "<tr>\n",
       "  <th>Dep. Variable:</th>          <td>count</td>      <th>  R-squared:         </th> <td>   0.853</td> \n",
       "</tr>\n",
       "<tr>\n",
       "  <th>Model:</th>                   <td>OLS</td>       <th>  Adj. R-squared:    </th> <td>   0.845</td> \n",
       "</tr>\n",
       "<tr>\n",
       "  <th>Method:</th>             <td>Least Squares</td>  <th>  F-statistic:       </th> <td>   103.8</td> \n",
       "</tr>\n",
       "<tr>\n",
       "  <th>Date:</th>             <td>Wed, 12 Jan 2022</td> <th>  Prob (F-statistic):</th> <td>8.74e-182</td>\n",
       "</tr>\n",
       "<tr>\n",
       "  <th>Time:</th>                 <td>17:37:30</td>     <th>  Log-Likelihood:    </th> <td> -4097.8</td> \n",
       "</tr>\n",
       "<tr>\n",
       "  <th>No. Observations:</th>      <td>   510</td>      <th>  AIC:               </th> <td>   8252.</td> \n",
       "</tr>\n",
       "<tr>\n",
       "  <th>Df Residuals:</th>          <td>   482</td>      <th>  BIC:               </th> <td>   8370.</td> \n",
       "</tr>\n",
       "<tr>\n",
       "  <th>Df Model:</th>              <td>    27</td>      <th>                     </th>     <td> </td>    \n",
       "</tr>\n",
       "<tr>\n",
       "  <th>Covariance Type:</th>      <td>nonrobust</td>    <th>                     </th>     <td> </td>    \n",
       "</tr>\n",
       "</table>\n",
       "<table class=\"simpletable\">\n",
       "<tr>\n",
       "         <td></td>            <th>coef</th>     <th>std err</th>      <th>t</th>      <th>P>|t|</th>  <th>[0.025</th>    <th>0.975]</th>  \n",
       "</tr>\n",
       "<tr>\n",
       "  <th>const</th>           <td> 2238.8367</td> <td>  452.044</td> <td>    4.953</td> <td> 0.000</td> <td> 1350.616</td> <td> 3127.058</td>\n",
       "</tr>\n",
       "<tr>\n",
       "  <th>temp</th>            <td> 3916.2822</td> <td>  402.328</td> <td>    9.734</td> <td> 0.000</td> <td> 3125.748</td> <td> 4706.816</td>\n",
       "</tr>\n",
       "<tr>\n",
       "  <th>humidity</th>        <td>-1315.4477</td> <td>  334.443</td> <td>   -3.933</td> <td> 0.000</td> <td>-1972.595</td> <td> -658.301</td>\n",
       "</tr>\n",
       "<tr>\n",
       "  <th>windspeed</th>       <td>-1620.6522</td> <td>  223.329</td> <td>   -7.257</td> <td> 0.000</td> <td>-2059.472</td> <td>-1181.833</td>\n",
       "</tr>\n",
       "<tr>\n",
       "  <th>2019</th>            <td> 2017.5498</td> <td>   70.005</td> <td>   28.820</td> <td> 0.000</td> <td> 1879.997</td> <td> 2155.103</td>\n",
       "</tr>\n",
       "<tr>\n",
       "  <th>spring</th>          <td> -418.5981</td> <td>  260.478</td> <td>   -1.607</td> <td> 0.109</td> <td> -930.411</td> <td>   93.215</td>\n",
       "</tr>\n",
       "<tr>\n",
       "  <th>summer</th>          <td>  336.5944</td> <td>  227.730</td> <td>    1.478</td> <td> 0.140</td> <td> -110.872</td> <td>  784.061</td>\n",
       "</tr>\n",
       "<tr>\n",
       "  <th>winter</th>          <td>  920.0214</td> <td>  242.512</td> <td>    3.794</td> <td> 0.000</td> <td>  443.510</td> <td> 1396.533</td>\n",
       "</tr>\n",
       "<tr>\n",
       "  <th>Aug</th>             <td>  125.1994</td> <td>  292.671</td> <td>    0.428</td> <td> 0.669</td> <td> -449.870</td> <td>  700.268</td>\n",
       "</tr>\n",
       "<tr>\n",
       "  <th>Dec</th>             <td> -396.2326</td> <td>  291.836</td> <td>   -1.358</td> <td> 0.175</td> <td> -969.661</td> <td>  177.195</td>\n",
       "</tr>\n",
       "<tr>\n",
       "  <th>Feb</th>             <td> -280.5935</td> <td>  285.798</td> <td>   -0.982</td> <td> 0.327</td> <td> -842.157</td> <td>  280.970</td>\n",
       "</tr>\n",
       "<tr>\n",
       "  <th>Jan</th>             <td> -545.6541</td> <td>  291.390</td> <td>   -1.873</td> <td> 0.062</td> <td>-1118.206</td> <td>   26.898</td>\n",
       "</tr>\n",
       "<tr>\n",
       "  <th>July</th>            <td> -350.7228</td> <td>  304.698</td> <td>   -1.151</td> <td> 0.250</td> <td> -949.424</td> <td>  247.978</td>\n",
       "</tr>\n",
       "<tr>\n",
       "  <th>June</th>            <td>  -25.8360</td> <td>  217.957</td> <td>   -0.119</td> <td> 0.906</td> <td> -454.100</td> <td>  402.428</td>\n",
       "</tr>\n",
       "<tr>\n",
       "  <th>Mar</th>             <td>    9.0845</td> <td>  213.174</td> <td>    0.043</td> <td> 0.966</td> <td> -409.781</td> <td>  427.950</td>\n",
       "</tr>\n",
       "<tr>\n",
       "  <th>May</th>             <td>  208.0860</td> <td>  182.530</td> <td>    1.140</td> <td> 0.255</td> <td> -150.567</td> <td>  566.739</td>\n",
       "</tr>\n",
       "<tr>\n",
       "  <th>Nov</th>             <td> -363.7716</td> <td>  315.893</td> <td>   -1.152</td> <td> 0.250</td> <td> -984.468</td> <td>  256.925</td>\n",
       "</tr>\n",
       "<tr>\n",
       "  <th>Oct</th>             <td>   65.4819</td> <td>  310.994</td> <td>    0.211</td> <td> 0.833</td> <td> -545.589</td> <td>  676.553</td>\n",
       "</tr>\n",
       "<tr>\n",
       "  <th>Sept</th>            <td>  704.5726</td> <td>  278.125</td> <td>    2.533</td> <td> 0.012</td> <td>  158.086</td> <td> 1251.059</td>\n",
       "</tr>\n",
       "<tr>\n",
       "  <th>Mon</th>             <td> -181.7213</td> <td>  133.066</td> <td>   -1.366</td> <td> 0.173</td> <td> -443.182</td> <td>   79.739</td>\n",
       "</tr>\n",
       "<tr>\n",
       "  <th>Sat</th>             <td>  751.2480</td> <td>  261.738</td> <td>    2.870</td> <td> 0.004</td> <td>  236.959</td> <td> 1265.537</td>\n",
       "</tr>\n",
       "<tr>\n",
       "  <th>Sun</th>             <td>  277.2246</td> <td>  262.425</td> <td>    1.056</td> <td> 0.291</td> <td> -238.414</td> <td>  792.863</td>\n",
       "</tr>\n",
       "<tr>\n",
       "  <th>Thur</th>            <td>  -80.2858</td> <td>  134.832</td> <td>   -0.595</td> <td> 0.552</td> <td> -345.217</td> <td>  184.645</td>\n",
       "</tr>\n",
       "<tr>\n",
       "  <th>Tue</th>             <td> -164.1905</td> <td>  134.665</td> <td>   -1.219</td> <td> 0.223</td> <td> -428.794</td> <td>  100.413</td>\n",
       "</tr>\n",
       "<tr>\n",
       "  <th>Wed</th>             <td>  -46.8282</td> <td>  129.428</td> <td>   -0.362</td> <td> 0.718</td> <td> -301.140</td> <td>  207.484</td>\n",
       "</tr>\n",
       "<tr>\n",
       "  <th>working_day</th>     <td>  755.5533</td> <td>  231.133</td> <td>    3.269</td> <td> 0.001</td> <td>  301.401</td> <td> 1209.705</td>\n",
       "</tr>\n",
       "<tr>\n",
       "  <th>Cloudy/Misty</th>    <td> -530.7891</td> <td>   90.677</td> <td>   -5.854</td> <td> 0.000</td> <td> -708.961</td> <td> -352.617</td>\n",
       "</tr>\n",
       "<tr>\n",
       "  <th>Light Rain/Snow</th> <td>-2237.6927</td> <td>  228.852</td> <td>   -9.778</td> <td> 0.000</td> <td>-2687.364</td> <td>-1788.022</td>\n",
       "</tr>\n",
       "</table>\n",
       "<table class=\"simpletable\">\n",
       "<tr>\n",
       "  <th>Omnibus:</th>       <td>84.475</td> <th>  Durbin-Watson:     </th> <td>   2.040</td>\n",
       "</tr>\n",
       "<tr>\n",
       "  <th>Prob(Omnibus):</th> <td> 0.000</td> <th>  Jarque-Bera (JB):  </th> <td> 235.382</td>\n",
       "</tr>\n",
       "<tr>\n",
       "  <th>Skew:</th>          <td>-0.804</td> <th>  Prob(JB):          </th> <td>7.72e-52</td>\n",
       "</tr>\n",
       "<tr>\n",
       "  <th>Kurtosis:</th>      <td> 5.914</td> <th>  Cond. No.          </th> <td>    39.1</td>\n",
       "</tr>\n",
       "</table><br/><br/>Warnings:<br/>[1] Standard Errors assume that the covariance matrix of the errors is correctly specified."
      ],
      "text/plain": [
       "<class 'statsmodels.iolib.summary.Summary'>\n",
       "\"\"\"\n",
       "                            OLS Regression Results                            \n",
       "==============================================================================\n",
       "Dep. Variable:                  count   R-squared:                       0.853\n",
       "Model:                            OLS   Adj. R-squared:                  0.845\n",
       "Method:                 Least Squares   F-statistic:                     103.8\n",
       "Date:                Wed, 12 Jan 2022   Prob (F-statistic):          8.74e-182\n",
       "Time:                        17:37:30   Log-Likelihood:                -4097.8\n",
       "No. Observations:                 510   AIC:                             8252.\n",
       "Df Residuals:                     482   BIC:                             8370.\n",
       "Df Model:                          27                                         \n",
       "Covariance Type:            nonrobust                                         \n",
       "===================================================================================\n",
       "                      coef    std err          t      P>|t|      [0.025      0.975]\n",
       "-----------------------------------------------------------------------------------\n",
       "const            2238.8367    452.044      4.953      0.000    1350.616    3127.058\n",
       "temp             3916.2822    402.328      9.734      0.000    3125.748    4706.816\n",
       "humidity        -1315.4477    334.443     -3.933      0.000   -1972.595    -658.301\n",
       "windspeed       -1620.6522    223.329     -7.257      0.000   -2059.472   -1181.833\n",
       "2019             2017.5498     70.005     28.820      0.000    1879.997    2155.103\n",
       "spring           -418.5981    260.478     -1.607      0.109    -930.411      93.215\n",
       "summer            336.5944    227.730      1.478      0.140    -110.872     784.061\n",
       "winter            920.0214    242.512      3.794      0.000     443.510    1396.533\n",
       "Aug               125.1994    292.671      0.428      0.669    -449.870     700.268\n",
       "Dec              -396.2326    291.836     -1.358      0.175    -969.661     177.195\n",
       "Feb              -280.5935    285.798     -0.982      0.327    -842.157     280.970\n",
       "Jan              -545.6541    291.390     -1.873      0.062   -1118.206      26.898\n",
       "July             -350.7228    304.698     -1.151      0.250    -949.424     247.978\n",
       "June              -25.8360    217.957     -0.119      0.906    -454.100     402.428\n",
       "Mar                 9.0845    213.174      0.043      0.966    -409.781     427.950\n",
       "May               208.0860    182.530      1.140      0.255    -150.567     566.739\n",
       "Nov              -363.7716    315.893     -1.152      0.250    -984.468     256.925\n",
       "Oct                65.4819    310.994      0.211      0.833    -545.589     676.553\n",
       "Sept              704.5726    278.125      2.533      0.012     158.086    1251.059\n",
       "Mon              -181.7213    133.066     -1.366      0.173    -443.182      79.739\n",
       "Sat               751.2480    261.738      2.870      0.004     236.959    1265.537\n",
       "Sun               277.2246    262.425      1.056      0.291    -238.414     792.863\n",
       "Thur              -80.2858    134.832     -0.595      0.552    -345.217     184.645\n",
       "Tue              -164.1905    134.665     -1.219      0.223    -428.794     100.413\n",
       "Wed               -46.8282    129.428     -0.362      0.718    -301.140     207.484\n",
       "working_day       755.5533    231.133      3.269      0.001     301.401    1209.705\n",
       "Cloudy/Misty     -530.7891     90.677     -5.854      0.000    -708.961    -352.617\n",
       "Light Rain/Snow -2237.6927    228.852     -9.778      0.000   -2687.364   -1788.022\n",
       "==============================================================================\n",
       "Omnibus:                       84.475   Durbin-Watson:                   2.040\n",
       "Prob(Omnibus):                  0.000   Jarque-Bera (JB):              235.382\n",
       "Skew:                          -0.804   Prob(JB):                     7.72e-52\n",
       "Kurtosis:                       5.914   Cond. No.                         39.1\n",
       "==============================================================================\n",
       "\n",
       "Warnings:\n",
       "[1] Standard Errors assume that the covariance matrix of the errors is correctly specified.\n",
       "\"\"\""
      ]
     },
     "execution_count": 29,
     "metadata": {},
     "output_type": "execute_result"
    }
   ],
   "source": [
    "#checking the p-value, adj. r2 score and other parameters\n",
    "lr.summary()"
   ]
  },
  {
   "cell_type": "markdown",
   "metadata": {},
   "source": [
    "Though we got a adj. R2 score of 0.82, we can see there are many variables with high p value than 0.05, making them statistically insignificant for the model."
   ]
  },
  {
   "cell_type": "markdown",
   "metadata": {},
   "source": [
    "### RFE"
   ]
  },
  {
   "cell_type": "markdown",
   "metadata": {},
   "source": [
    "Let's use the Recusive feature elimination and get the 15 columns for building a model.\n",
    "And then, we will check the p value and VIF d=for further elimination of variables."
   ]
  },
  {
   "cell_type": "code",
   "execution_count": 30,
   "metadata": {},
   "outputs": [],
   "source": [
    "#selecting 15 variables using the RFE\n",
    "lr = LinearRegression()\n",
    "rfe = RFE(lr, 15, step = 1)\n",
    "rfe_select = rfe.fit(X_train, y_train)"
   ]
  },
  {
   "cell_type": "code",
   "execution_count": 31,
   "metadata": {},
   "outputs": [
    {
     "data": {
      "text/html": [
       "<div>\n",
       "<style scoped>\n",
       "    .dataframe tbody tr th:only-of-type {\n",
       "        vertical-align: middle;\n",
       "    }\n",
       "\n",
       "    .dataframe tbody tr th {\n",
       "        vertical-align: top;\n",
       "    }\n",
       "\n",
       "    .dataframe thead th {\n",
       "        text-align: right;\n",
       "    }\n",
       "</style>\n",
       "<table border=\"1\" class=\"dataframe\">\n",
       "  <thead>\n",
       "    <tr style=\"text-align: right;\">\n",
       "      <th></th>\n",
       "      <th>rank</th>\n",
       "      <th>support</th>\n",
       "      <th>features</th>\n",
       "    </tr>\n",
       "  </thead>\n",
       "  <tbody>\n",
       "    <tr>\n",
       "      <td>0</td>\n",
       "      <td>1</td>\n",
       "      <td>True</td>\n",
       "      <td>temp</td>\n",
       "    </tr>\n",
       "    <tr>\n",
       "      <td>24</td>\n",
       "      <td>1</td>\n",
       "      <td>True</td>\n",
       "      <td>working_day</td>\n",
       "    </tr>\n",
       "    <tr>\n",
       "      <td>20</td>\n",
       "      <td>1</td>\n",
       "      <td>True</td>\n",
       "      <td>Sun</td>\n",
       "    </tr>\n",
       "    <tr>\n",
       "      <td>19</td>\n",
       "      <td>1</td>\n",
       "      <td>True</td>\n",
       "      <td>Sat</td>\n",
       "    </tr>\n",
       "    <tr>\n",
       "      <td>17</td>\n",
       "      <td>1</td>\n",
       "      <td>True</td>\n",
       "      <td>Sept</td>\n",
       "    </tr>\n",
       "    <tr>\n",
       "      <td>25</td>\n",
       "      <td>1</td>\n",
       "      <td>True</td>\n",
       "      <td>Cloudy/Misty</td>\n",
       "    </tr>\n",
       "    <tr>\n",
       "      <td>11</td>\n",
       "      <td>1</td>\n",
       "      <td>True</td>\n",
       "      <td>July</td>\n",
       "    </tr>\n",
       "    <tr>\n",
       "      <td>10</td>\n",
       "      <td>1</td>\n",
       "      <td>True</td>\n",
       "      <td>Jan</td>\n",
       "    </tr>\n",
       "    <tr>\n",
       "      <td>26</td>\n",
       "      <td>1</td>\n",
       "      <td>True</td>\n",
       "      <td>Light Rain/Snow</td>\n",
       "    </tr>\n",
       "    <tr>\n",
       "      <td>4</td>\n",
       "      <td>1</td>\n",
       "      <td>True</td>\n",
       "      <td>spring</td>\n",
       "    </tr>\n",
       "    <tr>\n",
       "      <td>1</td>\n",
       "      <td>1</td>\n",
       "      <td>True</td>\n",
       "      <td>humidity</td>\n",
       "    </tr>\n",
       "    <tr>\n",
       "      <td>6</td>\n",
       "      <td>1</td>\n",
       "      <td>True</td>\n",
       "      <td>winter</td>\n",
       "    </tr>\n",
       "    <tr>\n",
       "      <td>2</td>\n",
       "      <td>1</td>\n",
       "      <td>True</td>\n",
       "      <td>windspeed</td>\n",
       "    </tr>\n",
       "    <tr>\n",
       "      <td>5</td>\n",
       "      <td>1</td>\n",
       "      <td>True</td>\n",
       "      <td>summer</td>\n",
       "    </tr>\n",
       "    <tr>\n",
       "      <td>3</td>\n",
       "      <td>1</td>\n",
       "      <td>True</td>\n",
       "      <td>2019</td>\n",
       "    </tr>\n",
       "    <tr>\n",
       "      <td>15</td>\n",
       "      <td>2</td>\n",
       "      <td>False</td>\n",
       "      <td>Nov</td>\n",
       "    </tr>\n",
       "    <tr>\n",
       "      <td>8</td>\n",
       "      <td>3</td>\n",
       "      <td>False</td>\n",
       "      <td>Dec</td>\n",
       "    </tr>\n",
       "    <tr>\n",
       "      <td>9</td>\n",
       "      <td>4</td>\n",
       "      <td>False</td>\n",
       "      <td>Feb</td>\n",
       "    </tr>\n",
       "    <tr>\n",
       "      <td>14</td>\n",
       "      <td>5</td>\n",
       "      <td>False</td>\n",
       "      <td>May</td>\n",
       "    </tr>\n",
       "    <tr>\n",
       "      <td>7</td>\n",
       "      <td>6</td>\n",
       "      <td>False</td>\n",
       "      <td>Aug</td>\n",
       "    </tr>\n",
       "    <tr>\n",
       "      <td>18</td>\n",
       "      <td>7</td>\n",
       "      <td>False</td>\n",
       "      <td>Mon</td>\n",
       "    </tr>\n",
       "    <tr>\n",
       "      <td>22</td>\n",
       "      <td>8</td>\n",
       "      <td>False</td>\n",
       "      <td>Tue</td>\n",
       "    </tr>\n",
       "    <tr>\n",
       "      <td>16</td>\n",
       "      <td>9</td>\n",
       "      <td>False</td>\n",
       "      <td>Oct</td>\n",
       "    </tr>\n",
       "    <tr>\n",
       "      <td>21</td>\n",
       "      <td>10</td>\n",
       "      <td>False</td>\n",
       "      <td>Thur</td>\n",
       "    </tr>\n",
       "    <tr>\n",
       "      <td>23</td>\n",
       "      <td>11</td>\n",
       "      <td>False</td>\n",
       "      <td>Wed</td>\n",
       "    </tr>\n",
       "    <tr>\n",
       "      <td>12</td>\n",
       "      <td>12</td>\n",
       "      <td>False</td>\n",
       "      <td>June</td>\n",
       "    </tr>\n",
       "    <tr>\n",
       "      <td>13</td>\n",
       "      <td>13</td>\n",
       "      <td>False</td>\n",
       "      <td>Mar</td>\n",
       "    </tr>\n",
       "  </tbody>\n",
       "</table>\n",
       "</div>"
      ],
      "text/plain": [
       "    rank  support         features\n",
       "0      1     True             temp\n",
       "24     1     True      working_day\n",
       "20     1     True              Sun\n",
       "19     1     True              Sat\n",
       "17     1     True             Sept\n",
       "25     1     True     Cloudy/Misty\n",
       "11     1     True             July\n",
       "10     1     True              Jan\n",
       "26     1     True  Light Rain/Snow\n",
       "4      1     True           spring\n",
       "1      1     True         humidity\n",
       "6      1     True           winter\n",
       "2      1     True        windspeed\n",
       "5      1     True           summer\n",
       "3      1     True             2019\n",
       "15     2    False              Nov\n",
       "8      3    False              Dec\n",
       "9      4    False              Feb\n",
       "14     5    False              May\n",
       "7      6    False              Aug\n",
       "18     7    False              Mon\n",
       "22     8    False              Tue\n",
       "16     9    False              Oct\n",
       "21    10    False             Thur\n",
       "23    11    False              Wed\n",
       "12    12    False             June\n",
       "13    13    False              Mar"
      ]
     },
     "execution_count": 31,
     "metadata": {},
     "output_type": "execute_result"
    }
   ],
   "source": [
    "#let's look at the RFE ranking of different features\n",
    "rfe_rank = pd.DataFrame({'rank' : rfe_select.ranking_, 'support' : rfe_select.support_, 'features' : X_train.columns}).sort_values(by = 'rank', ascending = True)\n",
    "rfe_rank"
   ]
  },
  {
   "cell_type": "code",
   "execution_count": 32,
   "metadata": {},
   "outputs": [
    {
     "data": {
      "text/plain": [
       "array(['temp', 'working_day', 'Sun', 'Sat', 'Sept', 'Cloudy/Misty',\n",
       "       'July', 'Jan', 'Light Rain/Snow', 'spring', 'humidity', 'winter',\n",
       "       'windspeed', 'summer', 2019], dtype=object)"
      ]
     },
     "execution_count": 32,
     "metadata": {},
     "output_type": "execute_result"
    }
   ],
   "source": [
    "#let's get the selected features from RFE and use them for building a model\n",
    "selected_feat = rfe_rank.loc[rfe_rank['rank'] == 1, 'features'].values\n",
    "selected_feat"
   ]
  },
  {
   "cell_type": "code",
   "execution_count": 33,
   "metadata": {},
   "outputs": [],
   "source": [
    "#Let's create the function for building a model and checking it's VIF.\n",
    "def model(y, X):\n",
    "    X_train_sm = sm.add_constant(X)\n",
    "    model = sm.OLS(y, X_train_sm).fit()\n",
    "    print(model.summary())\n",
    "    return model\n",
    "\n",
    "def vif(X):\n",
    "    data = sm.add_constant(X)\n",
    "    vif = [variance_inflation_factor(data.values, i) for i in range(data.shape[1])]\n",
    "    vif = pd.DataFrame({'vif' : vif[0:]}, index = data.columns).reset_index()\n",
    "    print(vif.sort_values(by = 'vif', ascending = False))\n",
    "    "
   ]
  },
  {
   "cell_type": "markdown",
   "metadata": {},
   "source": [
    "#### Model 1 "
   ]
  },
  {
   "cell_type": "code",
   "execution_count": 34,
   "metadata": {},
   "outputs": [
    {
     "name": "stdout",
     "output_type": "stream",
     "text": [
      "                            OLS Regression Results                            \n",
      "==============================================================================\n",
      "Dep. Variable:                  count   R-squared:                       0.849\n",
      "Model:                            OLS   Adj. R-squared:                  0.844\n",
      "Method:                 Least Squares   F-statistic:                     184.6\n",
      "Date:                Wed, 12 Jan 2022   Prob (F-statistic):          2.31e-191\n",
      "Time:                        17:37:30   Log-Likelihood:                -4105.9\n",
      "No. Observations:                 510   AIC:                             8244.\n",
      "Df Residuals:                     494   BIC:                             8312.\n",
      "Df Model:                          15                                         \n",
      "Covariance Type:            nonrobust                                         \n",
      "===================================================================================\n",
      "                      coef    std err          t      P>|t|      [0.025      0.975]\n",
      "-----------------------------------------------------------------------------------\n",
      "const            1695.3174    368.826      4.597      0.000     970.655    2419.979\n",
      "temp             4431.4973    298.389     14.851      0.000    3845.228    5017.766\n",
      "working_day       887.0204    219.829      4.035      0.000     455.105    1318.936\n",
      "Sun               508.7381    233.568      2.178      0.030      49.830     967.646\n",
      "Sat               975.6826    232.295      4.200      0.000     519.275    1432.090\n",
      "Sept              705.6663    143.010      4.934      0.000     424.684     986.648\n",
      "Cloudy/Misty     -502.6064     90.177     -5.574      0.000    -679.784    -325.429\n",
      "July             -462.3542    156.871     -2.947      0.003    -770.570    -154.138\n",
      "Jan              -298.3585    150.718     -1.980      0.048    -594.486      -2.231\n",
      "Light Rain/Snow -2162.3728    226.178     -9.560      0.000   -2606.763   -1717.983\n",
      "spring           -441.6037    179.462     -2.461      0.014    -794.207     -89.001\n",
      "humidity        -1344.7934    324.457     -4.145      0.000   -1982.280    -707.307\n",
      "winter            820.7507    149.808      5.479      0.000     526.411    1115.090\n",
      "windspeed       -1616.3289    221.379     -7.301      0.000   -2051.289   -1181.369\n",
      "summer            431.6424    129.004      3.346      0.001     178.177     685.107\n",
      "2019             2003.5240     69.550     28.807      0.000    1866.873    2140.175\n",
      "==============================================================================\n",
      "Omnibus:                       66.344   Durbin-Watson:                   2.071\n",
      "Prob(Omnibus):                  0.000   Jarque-Bera (JB):              161.565\n",
      "Skew:                          -0.676   Prob(JB):                     8.25e-36\n",
      "Kurtosis:                       5.403   Cond. No.                         25.4\n",
      "==============================================================================\n",
      "\n",
      "Warnings:\n",
      "[1] Standard Errors assume that the covariance matrix of the errors is correctly specified.\n",
      "              index     vif\n",
      "0             const 116.687\n",
      "2       working_day   9.072\n",
      "4               Sat   6.059\n",
      "3               Sun   5.739\n",
      "10           spring   5.084\n",
      "1              temp   3.888\n",
      "12           winter   3.600\n",
      "14           summer   2.641\n",
      "11         humidity   1.918\n",
      "6      Cloudy/Misty   1.572\n",
      "8               Jan   1.568\n",
      "7              July   1.491\n",
      "5              Sept   1.297\n",
      "9   Light Rain/Snow   1.253\n",
      "13        windspeed   1.210\n",
      "15             2019   1.037\n"
     ]
    }
   ],
   "source": [
    "feat1 = selected_feat\n",
    "model(y_train, X_train[feat1])\n",
    "vif(X_train[feat1])"
   ]
  },
  {
   "cell_type": "markdown",
   "metadata": {},
   "source": [
    "- The VIF for ````working_day```` is 9.07, so let's drop it and build another model."
   ]
  },
  {
   "cell_type": "markdown",
   "metadata": {},
   "source": [
    "### Model 2"
   ]
  },
  {
   "cell_type": "code",
   "execution_count": 35,
   "metadata": {},
   "outputs": [
    {
     "name": "stdout",
     "output_type": "stream",
     "text": [
      "                            OLS Regression Results                            \n",
      "==============================================================================\n",
      "Dep. Variable:                  count   R-squared:                       0.844\n",
      "Model:                            OLS   Adj. R-squared:                  0.839\n",
      "Method:                 Least Squares   F-statistic:                     190.7\n",
      "Date:                Wed, 12 Jan 2022   Prob (F-statistic):          4.75e-189\n",
      "Time:                        17:37:30   Log-Likelihood:                -4114.2\n",
      "No. Observations:                 510   AIC:                             8258.\n",
      "Df Residuals:                     495   BIC:                             8322.\n",
      "Df Model:                          14                                         \n",
      "Covariance Type:            nonrobust                                         \n",
      "===================================================================================\n",
      "                      coef    std err          t      P>|t|      [0.025      0.975]\n",
      "-----------------------------------------------------------------------------------\n",
      "const            2560.2524    304.738      8.401      0.000    1961.512    3158.993\n",
      "temp             4441.2774    302.950     14.660      0.000    3846.050    5036.505\n",
      "Sun              -343.5676    101.213     -3.394      0.001    -542.428    -144.707\n",
      "Sat               122.5366     97.684      1.254      0.210     -69.390     314.463\n",
      "Sept              674.6865    144.991      4.653      0.000     389.813     959.560\n",
      "Cloudy/Misty     -484.8141     91.449     -5.301      0.000    -664.489    -305.139\n",
      "July             -455.2820    159.264     -2.859      0.004    -768.199    -142.365\n",
      "Jan              -305.6449    153.016     -1.997      0.046    -606.286      -5.004\n",
      "Light Rain/Snow -2120.2066    229.398     -9.242      0.000   -2570.920   -1669.493\n",
      "spring           -462.2851    182.137     -2.538      0.011    -820.142    -104.428\n",
      "humidity        -1352.9139    329.421     -4.107      0.000   -2000.150    -705.678\n",
      "winter            795.2877    151.968      5.233      0.000     496.706    1093.870\n",
      "windspeed       -1638.1307    224.703     -7.290      0.000   -2079.620   -1196.642\n",
      "summer            434.6885    130.978      3.319      0.001     177.346     692.031\n",
      "2019             2007.7553     70.608     28.435      0.000    1869.028    2146.483\n",
      "==============================================================================\n",
      "Omnibus:                       82.614   Durbin-Watson:                   2.016\n",
      "Prob(Omnibus):                  0.000   Jarque-Bera (JB):              221.612\n",
      "Skew:                          -0.799   Prob(JB):                     7.55e-49\n",
      "Kurtosis:                       5.806   Cond. No.                         20.0\n",
      "==============================================================================\n",
      "\n",
      "Warnings:\n",
      "[1] Standard Errors assume that the covariance matrix of the errors is correctly specified.\n",
      "              index    vif\n",
      "0             const 77.273\n",
      "9            spring  5.080\n",
      "1              temp  3.888\n",
      "11           winter  3.594\n",
      "13           summer  2.641\n",
      "10         humidity  1.918\n",
      "5      Cloudy/Misty  1.568\n",
      "7               Jan  1.567\n",
      "6              July  1.491\n",
      "4              Sept  1.293\n",
      "8   Light Rain/Snow  1.250\n",
      "12        windspeed  1.209\n",
      "2               Sun  1.045\n",
      "3               Sat  1.039\n",
      "14             2019  1.037\n"
     ]
    }
   ],
   "source": [
    "feat2 = feat1[feat1 != 'working_day']\n",
    "model(y_train, X_train[feat2])\n",
    "vif(X_train[feat2])"
   ]
  },
  {
   "cell_type": "markdown",
   "metadata": {},
   "source": [
    "- The p-value for ````Sat```` > 0.05, let's drop it and build another model"
   ]
  },
  {
   "cell_type": "markdown",
   "metadata": {},
   "source": [
    "### Model 3"
   ]
  },
  {
   "cell_type": "code",
   "execution_count": 36,
   "metadata": {},
   "outputs": [
    {
     "name": "stdout",
     "output_type": "stream",
     "text": [
      "                            OLS Regression Results                            \n",
      "==============================================================================\n",
      "Dep. Variable:                  count   R-squared:                       0.843\n",
      "Model:                            OLS   Adj. R-squared:                  0.839\n",
      "Method:                 Least Squares   F-statistic:                     205.0\n",
      "Date:                Wed, 12 Jan 2022   Prob (F-statistic):          7.11e-190\n",
      "Time:                        17:37:30   Log-Likelihood:                -4115.0\n",
      "No. Observations:                 510   AIC:                             8258.\n",
      "Df Residuals:                     496   BIC:                             8317.\n",
      "Df Model:                          13                                         \n",
      "Covariance Type:            nonrobust                                         \n",
      "===================================================================================\n",
      "                      coef    std err          t      P>|t|      [0.025      0.975]\n",
      "-----------------------------------------------------------------------------------\n",
      "const            2591.2522    303.910      8.526      0.000    1994.142    3188.363\n",
      "temp             4437.0002    303.106     14.638      0.000    3841.470    5032.531\n",
      "Sun              -365.5996     99.735     -3.666      0.000    -561.556    -169.644\n",
      "Sept              675.2927    145.074      4.655      0.000     390.258     960.328\n",
      "Cloudy/Misty     -482.0493     91.475     -5.270      0.000    -661.775    -302.323\n",
      "July             -451.4326    159.326     -2.833      0.005    -764.470    -138.395\n",
      "Jan              -303.9757    153.099     -1.985      0.048    -604.778      -3.174\n",
      "Light Rain/Snow -2114.3005    229.482     -9.213      0.000   -2565.177   -1663.424\n",
      "spring           -462.3700    182.242     -2.537      0.011    -820.432    -104.308\n",
      "humidity        -1368.7316    329.370     -4.156      0.000   -2015.864    -721.599\n",
      "winter            798.3624    152.036      5.251      0.000     499.648    1097.076\n",
      "windspeed       -1628.7604    224.709     -7.248      0.000   -2070.258   -1187.263\n",
      "summer            434.1839    131.053      3.313      0.001     176.696     691.672\n",
      "2019             2004.7633     70.608     28.393      0.000    1866.036    2143.491\n",
      "==============================================================================\n",
      "Omnibus:                       78.138   Durbin-Watson:                   2.014\n",
      "Prob(Omnibus):                  0.000   Jarque-Bera (JB):              218.673\n",
      "Skew:                          -0.743   Prob(JB):                     3.28e-48\n",
      "Kurtosis:                       5.843   Cond. No.                         19.8\n",
      "==============================================================================\n",
      "\n",
      "Warnings:\n",
      "[1] Standard Errors assume that the covariance matrix of the errors is correctly specified.\n",
      "              index    vif\n",
      "0             const 76.765\n",
      "8            spring  5.080\n",
      "1              temp  3.887\n",
      "10           winter  3.593\n",
      "12           summer  2.641\n",
      "9          humidity  1.915\n",
      "4      Cloudy/Misty  1.568\n",
      "6               Jan  1.567\n",
      "5              July  1.490\n",
      "3              Sept  1.293\n",
      "7   Light Rain/Snow  1.249\n",
      "11        windspeed  1.208\n",
      "13             2019  1.036\n",
      "2               Sun  1.014\n"
     ]
    }
   ],
   "source": [
    "feat3 = feat2[feat2 != 'Sat']\n",
    "model(y_train, X_train[feat3])\n",
    "vif(X_train[feat3])"
   ]
  },
  {
   "cell_type": "markdown",
   "metadata": {},
   "source": [
    "- The VIF for ````spring```` is just greater than 5, let's drop it and build another model."
   ]
  },
  {
   "cell_type": "markdown",
   "metadata": {},
   "source": [
    "### Model 4"
   ]
  },
  {
   "cell_type": "code",
   "execution_count": 37,
   "metadata": {},
   "outputs": [
    {
     "name": "stdout",
     "output_type": "stream",
     "text": [
      "                            OLS Regression Results                            \n",
      "==============================================================================\n",
      "Dep. Variable:                  count   R-squared:                       0.841\n",
      "Model:                            OLS   Adj. R-squared:                  0.837\n",
      "Method:                 Least Squares   F-statistic:                     219.2\n",
      "Date:                Wed, 12 Jan 2022   Prob (F-statistic):          1.14e-189\n",
      "Time:                        17:37:30   Log-Likelihood:                -4118.3\n",
      "No. Observations:                 510   AIC:                             8263.\n",
      "Df Residuals:                     497   BIC:                             8318.\n",
      "Df Model:                          12                                         \n",
      "Covariance Type:            nonrobust                                         \n",
      "===================================================================================\n",
      "                      coef    std err          t      P>|t|      [0.025      0.975]\n",
      "-----------------------------------------------------------------------------------\n",
      "const            2132.2616    245.531      8.684      0.000    1649.855    2614.668\n",
      "temp             4963.9505    221.966     22.364      0.000    4527.844    5400.057\n",
      "Sun              -368.2221    100.274     -3.672      0.000    -565.236    -171.209\n",
      "Sept              778.6659    139.994      5.562      0.000     503.612    1053.719\n",
      "Cloudy/Misty     -461.7715     91.622     -5.040      0.000    -641.786    -281.757\n",
      "July             -372.4458    157.107     -2.371      0.018    -681.122     -63.769\n",
      "Jan              -348.1116    152.937     -2.276      0.023    -648.594     -47.629\n",
      "Light Rain/Snow -2075.6828    230.226     -9.016      0.000   -2528.018   -1623.347\n",
      "humidity        -1455.8843    329.361     -4.420      0.000   -2102.995    -808.774\n",
      "winter           1090.8007     99.683     10.943      0.000     894.949    1286.653\n",
      "windspeed       -1694.9253    224.408     -7.553      0.000   -2135.830   -1254.021\n",
      "summer            661.1377     96.299      6.865      0.000     471.935     850.341\n",
      "2019             1994.4098     70.875     28.140      0.000    1855.159    2133.660\n",
      "==============================================================================\n",
      "Omnibus:                       71.851   Durbin-Watson:                   2.023\n",
      "Prob(Omnibus):                  0.000   Jarque-Bera (JB):              178.958\n",
      "Skew:                          -0.722   Prob(JB):                     1.38e-39\n",
      "Kurtosis:                       5.518   Cond. No.                         18.5\n",
      "==============================================================================\n",
      "\n",
      "Warnings:\n",
      "[1] Standard Errors assume that the covariance matrix of the errors is correctly specified.\n",
      "              index    vif\n",
      "0             const 49.563\n",
      "1              temp  2.062\n",
      "8          humidity  1.894\n",
      "4      Cloudy/Misty  1.556\n",
      "6               Jan  1.547\n",
      "9            winter  1.528\n",
      "5              July  1.433\n",
      "11           summer  1.411\n",
      "7   Light Rain/Snow  1.244\n",
      "10        windspeed  1.191\n",
      "3              Sept  1.191\n",
      "12             2019  1.032\n",
      "2               Sun  1.014\n"
     ]
    }
   ],
   "source": [
    "feat4 = feat3[feat3 != 'spring']\n",
    "model(y_train, X_train[feat4])\n",
    "vif(X_train[feat4])"
   ]
  },
  {
   "cell_type": "markdown",
   "metadata": {},
   "source": [
    "We have the model with 0.84 R2 score and 0.83 adj. R2 score and all the features have p value less than 0.05 an dthe VIF less than 5.\n",
    "We can infer that, model do not have any multicollinearity between the independent variables and all the variables are statistically significant.\n",
    "We can treat it as the final model."
   ]
  },
  {
   "cell_type": "markdown",
   "metadata": {},
   "source": [
    "### Final Model "
   ]
  },
  {
   "cell_type": "code",
   "execution_count": 38,
   "metadata": {},
   "outputs": [
    {
     "name": "stdout",
     "output_type": "stream",
     "text": [
      "                            OLS Regression Results                            \n",
      "==============================================================================\n",
      "Dep. Variable:                  count   R-squared:                       0.841\n",
      "Model:                            OLS   Adj. R-squared:                  0.837\n",
      "Method:                 Least Squares   F-statistic:                     219.2\n",
      "Date:                Wed, 12 Jan 2022   Prob (F-statistic):          1.14e-189\n",
      "Time:                        17:37:31   Log-Likelihood:                -4118.3\n",
      "No. Observations:                 510   AIC:                             8263.\n",
      "Df Residuals:                     497   BIC:                             8318.\n",
      "Df Model:                          12                                         \n",
      "Covariance Type:            nonrobust                                         \n",
      "===================================================================================\n",
      "                      coef    std err          t      P>|t|      [0.025      0.975]\n",
      "-----------------------------------------------------------------------------------\n",
      "const            2132.2616    245.531      8.684      0.000    1649.855    2614.668\n",
      "temp             4963.9505    221.966     22.364      0.000    4527.844    5400.057\n",
      "Sun              -368.2221    100.274     -3.672      0.000    -565.236    -171.209\n",
      "Sept              778.6659    139.994      5.562      0.000     503.612    1053.719\n",
      "Cloudy/Misty     -461.7715     91.622     -5.040      0.000    -641.786    -281.757\n",
      "July             -372.4458    157.107     -2.371      0.018    -681.122     -63.769\n",
      "Jan              -348.1116    152.937     -2.276      0.023    -648.594     -47.629\n",
      "Light Rain/Snow -2075.6828    230.226     -9.016      0.000   -2528.018   -1623.347\n",
      "humidity        -1455.8843    329.361     -4.420      0.000   -2102.995    -808.774\n",
      "winter           1090.8007     99.683     10.943      0.000     894.949    1286.653\n",
      "windspeed       -1694.9253    224.408     -7.553      0.000   -2135.830   -1254.021\n",
      "summer            661.1377     96.299      6.865      0.000     471.935     850.341\n",
      "2019             1994.4098     70.875     28.140      0.000    1855.159    2133.660\n",
      "==============================================================================\n",
      "Omnibus:                       71.851   Durbin-Watson:                   2.023\n",
      "Prob(Omnibus):                  0.000   Jarque-Bera (JB):              178.958\n",
      "Skew:                          -0.722   Prob(JB):                     1.38e-39\n",
      "Kurtosis:                       5.518   Cond. No.                         18.5\n",
      "==============================================================================\n",
      "\n",
      "Warnings:\n",
      "[1] Standard Errors assume that the covariance matrix of the errors is correctly specified.\n"
     ]
    }
   ],
   "source": [
    "X_train = X_train[feat4]\n",
    "X_train_sm = sm.add_constant(X_train)\n",
    "final_model = model(y_train, X_train)\n",
    "y_train_pred = final_model.predict(X_train_sm)"
   ]
  },
  {
   "cell_type": "markdown",
   "metadata": {},
   "source": [
    "### Residual Analysis\n",
    "- Let's see if the error terms are normally distributed\n",
    "- If error terms show any trends"
   ]
  },
  {
   "cell_type": "code",
   "execution_count": 39,
   "metadata": {},
   "outputs": [
    {
     "data": {
      "text/plain": [
       "<matplotlib.axes._subplots.AxesSubplot at 0x24e339527c8>"
      ]
     },
     "execution_count": 39,
     "metadata": {},
     "output_type": "execute_result"
    },
    {
     "data": {
      "image/png": "[encoded data removed]",
      "text/plain": [
       "<Figure size 432x288 with 1 Axes>"
      ]
     },
     "metadata": {
      "needs_background": "light"
     },
     "output_type": "display_data"
    }
   ],
   "source": [
    "#checking if error terms are normally distributed \n",
    "sns.distplot(y_train - y_train_pred, bins = 30)"
   ]
  },
  {
   "cell_type": "markdown",
   "metadata": {},
   "source": [
    "- Residual errors follow a normal distribution with the mean 0."
   ]
  },
  {
   "cell_type": "code",
   "execution_count": 40,
   "metadata": {},
   "outputs": [
    {
     "data": {
      "text/plain": [
       "<matplotlib.axes._subplots.AxesSubplot at 0x24e338f2dc8>"
      ]
     },
     "execution_count": 40,
     "metadata": {},
     "output_type": "execute_result"
    },
    {
     "data": {
      "image/png": "[encoded data removed]",
      "text/plain": [
       "<Figure size 432x288 with 1 Axes>"
      ]
     },
     "metadata": {
      "needs_background": "light"
     },
     "output_type": "display_data"
    }
   ],
   "source": [
    "#checking for any trends in the error terms\n",
    "sns.regplot(y_train_pred, y_train - y_train_pred)"
   ]
  },
  {
   "cell_type": "code",
   "execution_count": 41,
   "metadata": {},
   "outputs": [
    {
     "name": "stderr",
     "output_type": "stream",
     "text": [
      "'c' argument looks like a single numeric RGB or RGBA sequence, which should be avoided as value-mapping will have precedence in case its length matches with 'x' & 'y'.  Please use a 2-D array with a single row if you really want to specify the same RGB or RGBA value for all points.\n"
     ]
    },
    {
     "data": {
      "text/plain": [
       "<matplotlib.axes._subplots.AxesSubplot at 0x24e33a5a248>"
      ]
     },
     "execution_count": 41,
     "metadata": {},
     "output_type": "execute_result"
    },
    {
     "data": {
      "image/png": "[encoded data removed]",
      "text/plain": [
       "<Figure size 432x288 with 1 Axes>"
      ]
     },
     "metadata": {
      "needs_background": "light"
     },
     "output_type": "display_data"
    }
   ],
   "source": [
    "lag_plot(y_train - y_train_pred)"
   ]
  },
  {
   "cell_type": "markdown",
   "metadata": {},
   "source": [
    "- We can infer that, there is no trend in the variance of error terms."
   ]
  },
  {
   "cell_type": "markdown",
   "metadata": {},
   "source": [
    "__Assumptions of Linear Regression are satisfied by our model__"
   ]
  },
  {
   "cell_type": "markdown",
   "metadata": {},
   "source": [
    "### Prediction"
   ]
  },
  {
   "cell_type": "code",
   "execution_count": 42,
   "metadata": {},
   "outputs": [],
   "source": [
    "#predicting values of the test data using our final model\n",
    "X_test = X_test[feat4]\n",
    "X_test = sm.add_constant(X_test)\n",
    "y_test_pred = final_model.predict(X_test)"
   ]
  },
  {
   "cell_type": "markdown",
   "metadata": {},
   "source": [
    "### Model Evaluation"
   ]
  },
  {
   "cell_type": "code",
   "execution_count": 43,
   "metadata": {},
   "outputs": [
    {
     "data": {
      "text/plain": [
       "Text(0, 0.5, 'No. of Bike Rentals')"
      ]
     },
     "execution_count": 43,
     "metadata": {},
     "output_type": "execute_result"
    },
    {
     "data": {
      "image/png": "[encoded data removed]",
      "text/plain": [
       "<Figure size 1440x504 with 1 Axes>"
      ]
     },
     "metadata": {
      "needs_background": "light"
     },
     "output_type": "display_data"
    }
   ],
   "source": [
    "fig, ax = plt.subplots()\n",
    "fig.set_figheight(7)\n",
    "fig.set_figwidth(20)\n",
    "p1 = ax.plot(range(len(y_test)), y_test)\n",
    "p2 = ax.plot(range(len(y_test_pred)), y_test_pred)\n",
    "plt.legend([p1, p2], ['Actual', 'Predicted'])\n",
    "plt.title('Actual vs Predicted bike rentals')\n",
    "plt.ylabel('No. of Bike Rentals')"
   ]
  },
  {
   "cell_type": "markdown",
   "metadata": {},
   "source": [
    "- We can infer that, our model is doing pretty well from the above plot. We can say thay, our model is reasonably accurate."
   ]
  },
  {
   "cell_type": "code",
   "execution_count": 44,
   "metadata": {},
   "outputs": [
    {
     "name": "stdout",
     "output_type": "stream",
     "text": [
      "Mean squared error of the model is  711067.401\n",
      "R2 score for the train data is  0.841\n",
      "R2 score for the test data is  0.802\n"
     ]
    }
   ],
   "source": [
    "mse = mean_squared_error(y_test, y_test_pred)\n",
    "r2_train = r2_score(y_train, y_train_pred)\n",
    "r2_test = r2_score(y_test, y_test_pred)\n",
    "\n",
    "print(\"Mean squared error of the model is \", round(mse, 3))\n",
    "print(\"R2 score for the train data is \", round(r2_train, 3))\n",
    "print(\"R2 score for the test data is \", round(r2_test, 3))"
   ]
  },
  {
   "cell_type": "code",
   "execution_count": 45,
   "metadata": {},
   "outputs": [
    {
     "data": {
      "text/plain": [
       "0.8018399735317556"
      ]
     },
     "execution_count": 45,
     "metadata": {},
     "output_type": "execute_result"
    }
   ],
   "source": [
    "r2_score(y_test, y_test_pred)"
   ]
  },
  {
   "cell_type": "markdown",
   "metadata": {},
   "source": [
    "Using the cross val score to check the stability of the model."
   ]
  },
  {
   "cell_type": "code",
   "execution_count": 46,
   "metadata": {},
   "outputs": [
    {
     "data": {
      "text/plain": [
       "array([0.76304387, 0.80312159, 0.85001041, 0.83798497, 0.80587498,\n",
       "       0.81622414, 0.74250756, 0.90144626, 0.86878611, 0.84664323])"
      ]
     },
     "execution_count": 46,
     "metadata": {},
     "output_type": "execute_result"
    }
   ],
   "source": [
    "clr = cross_val_score(lr, X_train[feat4], y_train, cv = 10, scoring = 'r2')\n",
    "clr"
   ]
  },
  {
   "cell_type": "code",
   "execution_count": 47,
   "metadata": {},
   "outputs": [
    {
     "data": {
      "text/plain": [
       "(0.8235643123281378, 0.0907043830920422)"
      ]
     },
     "execution_count": 47,
     "metadata": {},
     "output_type": "execute_result"
    }
   ],
   "source": [
    "clr.mean(), clr.std() * 2"
   ]
  },
  {
   "cell_type": "markdown",
   "metadata": {},
   "source": [
    "- We can say that, our model will explain the 82%(+/-0.09) variance in the data."
   ]
  },
  {
   "cell_type": "code",
   "execution_count": 48,
   "metadata": {},
   "outputs": [
    {
     "data": {
      "text/plain": [
       "Light Rain/Snow   -2075.683\n",
       "windspeed         -1694.925\n",
       "humidity          -1455.884\n",
       "Cloudy/Misty       -461.772\n",
       "July               -372.446\n",
       "Sun                -368.222\n",
       "Jan                -348.112\n",
       "summer              661.138\n",
       "Sept                778.666\n",
       "winter             1090.801\n",
       "2019               1994.410\n",
       "const              2132.262\n",
       "temp               4963.951\n",
       "dtype: float64"
      ]
     },
     "execution_count": 48,
     "metadata": {},
     "output_type": "execute_result"
    }
   ],
   "source": [
    "final_model.params.sort_values()"
   ]
  },
  {
   "cell_type": "markdown",
   "metadata": {},
   "source": [
    "- We have normalized the continuous variables and all the categorical variables are now the dummy variables with level (n-1), so we have the scale of minimum=0, maximum=1 for all the variables.\n",
    "- Upon normalizing the values of the predictor variables i.e. the independent variables, from the above chart, we can say that features influencing the number of rental bikes are ````temp````, ````2019```` and ````Light Snow/Rain```` followed by ````windspeed```` and ````humidity````.\n",
    "- The demand of bikes rises significantly with the rising temperature, if the year is 2019 and decreases when the weather is little snowy or rainy or windspeed rises."
   ]
  },
  {
   "cell_type": "markdown",
   "metadata": {},
   "source": [
    "### Conclusion\n",
    "\n",
    "We carried out this Multiple Linear Regression model using the mixed approach. We first created the model with manually selecting all the independent variables. There we encountered the high p values, so we then used the RFE(Recursive Feature Elimination) method to select the top 15 features from our bikes data. Further we built the model with those selected features. We checked for the p values and VIFs for independent variables, all the p values were less than 0.05 and VIFs less than 5. \n",
    "After that, we built the final model with those 15 features and it explains the 84% variance of the training data and 80% variance of the testing data.\n",
    "\n",
    "The final model shows the following relationship between the predictor and target variable : \n",
    "\n",
    "````count```` = 2132.262 - 2075.683````Light Rain/Snow```` - 1455.884````humidity```` - 1694.925````windspeed```` - 348.112````Jan```` - 372.446````July```` - 368.222````Sun```` - 461.772````Cloudy/Misty```` + 661.138````summer```` + 373.288````May```` + 778.666````Sept```` + 1090.801````winter```` +  1994.410````2019```` + 4963.951````temp````\n"
   ]
  },
  {
   "cell_type": "code",
   "execution_count": null,
   "metadata": {},
   "outputs": [],
   "source": []
  }
 ],
 "metadata": {
  "kernelspec": {
   "display_name": "Python 3",
   "language": "python",
   "name": "python3"
  },
  "language_info": {
   "codemirror_mode": {
    "name": "ipython",
    "version": 3
   },
   "file_extension": ".py",
   "mimetype": "text/x-python",
   "name": "python",
   "nbconvert_exporter": "python",
   "pygments_lexer": "ipython3",
   "version": "3.7.4"
  }
 },
 "nbformat": 4,
 "nbformat_minor": 2
}
